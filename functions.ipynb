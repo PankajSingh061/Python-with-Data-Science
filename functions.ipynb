{
 "cells": [
  {
   "cell_type": "markdown",
   "metadata": {},
   "source": [
    "Syntax\n",
    "``````\n",
    "def fun_name([parameter]):\n",
    "  statement 1\n",
    "  statement 2\n",
    "  statement 3\n",
    "  ...\n",
    "  statement n\n",
    "  [return expression]\n",
    "\n",
    "example\n",
    "def area(width,height):\n",
    "   a=width*height\n",
    "   reaturn a"
   ]
  },
  {
   "cell_type": "markdown",
   "metadata": {},
   "source": [
    "-based on parameter and return value\n",
    "    1. no parameter, no return value\n",
    "    2. no parameter, return value\n",
    "    3. parameter, no return value\n",
    "    4. parameter, return value\n",
    "- based on parameter type \n",
    "    1. required parameter\n",
    "    2. keyword parameter\n",
    "    3. default parameter\n",
    "    4. variable length argumenet(*ags)\n",
    "    5. variable keyword arguments(**kwargs)\n",
    "- other types function\n",
    "    1. lamda function\n",
    "    2. generator function\n",
    "    3. recursive function\n",
    "    "
   ]
  },
  {
   "cell_type": "code",
   "execution_count": null,
   "metadata": {},
   "outputs": [],
   "source": []
  }
 ],
 "metadata": {
  "language_info": {
   "name": "python"
  },
  "orig_nbformat": 4
 },
 "nbformat": 4,
 "nbformat_minor": 2
}
