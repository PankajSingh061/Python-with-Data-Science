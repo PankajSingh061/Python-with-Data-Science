{
 "cells": [
  {
   "cell_type": "markdown",
   "metadata": {},
   "source": [
    "Syntax\n",
    "``````\n",
    "def fun_name([parameter]):\n",
    "  statement 1\n",
    "  statement 2\n",
    "  statement 3\n",
    "  ...\n",
    "  statement n\n",
    "  [return expression]\n",
    "\n",
    "example\n",
    "def area(width,height):\n",
    "   a=width*height\n",
    "   reaturn a"
   ]
  },
  {
   "cell_type": "markdown",
   "metadata": {},
   "source": [
    "-based on parameter and return value\n",
    "    1. no parameter, no return value\n",
    "    2. no parameter, return value\n",
    "    3. parameter, no return value\n",
    "    4. parameter, return value\n",
    "- based on parameter type \n",
    "    1. required parameter\n",
    "    2. keyword parameter\n",
    "    3. default parameter\n",
    "    4. variable length argumenet(*ags)\n",
    "    5. variable keyword arguments(**kwargs)\n",
    "- other types function\n",
    "    1. lamda function\n",
    "    2. generator function\n",
    "    3. recursive function\n",
    "    "
   ]
  },
  {
   "cell_type": "code",
   "execution_count": 2,
   "metadata": {},
   "outputs": [],
   "source": [
    "#value reterning function\n",
    "def area():\n",
    "    l=int(input('Enter l='))\n",
    "    b=int(input('Enter b='))\n",
    "    return l*b\n"
   ]
  },
  {
   "cell_type": "code",
   "execution_count": 3,
   "metadata": {},
   "outputs": [
    {
     "name": "stdout",
     "output_type": "stream",
     "text": [
      "area is 1530\n"
     ]
    }
   ],
   "source": [
    "ans=area()\n",
    "print(f'area is {ans}')"
   ]
  },
  {
   "cell_type": "code",
   "execution_count": 4,
   "metadata": {},
   "outputs": [],
   "source": [
    "def math():\n",
    "    p=int(input('Enter the Principle:'))\n",
    "    r=int(input('Enter the Rate:'))\n",
    "    t=int(input('Enter the Time:'))\n",
    "    si=p*r*t/100\n",
    "    amt=p+si\n",
    "    return si,amt"
   ]
  },
  {
   "cell_type": "code",
   "execution_count": 7,
   "metadata": {},
   "outputs": [
    {
     "name": "stdout",
     "output_type": "stream",
     "text": [
      "si 750.0\n",
      "amt 2250.0\n"
     ]
    }
   ],
   "source": [
    "result=math()\n",
    "print('si',result[0])\n",
    "print('amt',result[1])"
   ]
  },
  {
   "cell_type": "code",
   "execution_count": 6,
   "metadata": {},
   "outputs": [
    {
     "name": "stdout",
     "output_type": "stream",
     "text": [
      "6500.0 16500.0\n"
     ]
    }
   ],
   "source": [
    "si,amount=math()\n",
    "print(si,amount)"
   ]
  },
  {
   "cell_type": "code",
   "execution_count": 8,
   "metadata": {},
   "outputs": [],
   "source": [
    "def is_armstrong(number):\n",
    "    t=number\n",
    "    s=0 #sum\n",
    "    pow=len(str(number))\n",
    "    while number>0:\n",
    "        r=number%10\n",
    "        s+=r**pow\n",
    "        number//=10\n",
    "    return t==s"
   ]
  },
  {
   "cell_type": "code",
   "execution_count": 14,
   "metadata": {},
   "outputs": [
    {
     "name": "stdout",
     "output_type": "stream",
     "text": [
      "True\n"
     ]
    }
   ],
   "source": [
    "x=int(input('enter a number:'))\n",
    "print(is_armstrong(x))"
   ]
  },
  {
   "cell_type": "code",
   "execution_count": 18,
   "metadata": {},
   "outputs": [
    {
     "name": "stdout",
     "output_type": "stream",
     "text": [
      "153\n",
      "370\n",
      "371\n",
      "407\n",
      "1634\n",
      "8208\n",
      "9474\n"
     ]
    }
   ],
   "source": [
    "for i in range(100,9999):\n",
    "    if is_armstrong(i):\n",
    "        print(i)"
   ]
  },
  {
   "cell_type": "code",
   "execution_count": 15,
   "metadata": {},
   "outputs": [],
   "source": [
    "def adder (a,b,c):\n",
    "    return a+b+c"
   ]
  },
  {
   "cell_type": "code",
   "execution_count": 16,
   "metadata": {},
   "outputs": [
    {
     "name": "stdout",
     "output_type": "stream",
     "text": [
      "15\n"
     ]
    }
   ],
   "source": [
    "print(adder(5,3,7))"
   ]
  },
  {
   "cell_type": "code",
   "execution_count": 17,
   "metadata": {},
   "outputs": [
    {
     "name": "stdout",
     "output_type": "stream",
     "text": [
      "11\n",
      "137\n",
      "54\n",
      "61\n"
     ]
    }
   ],
   "source": [
    "print(adder(a=4,b=2,c=5)) # keyword argument\n",
    "print(adder(b=40,c=82,a=15)) # allows foe any order\n",
    "print(adder(4,c=25,b=25))\n",
    "print(adder(4,52,c=5))"
   ]
  },
  {
   "cell_type": "code",
   "execution_count": 19,
   "metadata": {},
   "outputs": [],
   "source": [
    "def multiplier(a, b, c=1):\n",
    "    return a*b*c"
   ]
  },
  {
   "cell_type": "code",
   "execution_count": 20,
   "metadata": {},
   "outputs": [
    {
     "name": "stdout",
     "output_type": "stream",
     "text": [
      "24\n",
      "240\n"
     ]
    }
   ],
   "source": [
    "print(multiplier(12,2))\n",
    "print(multiplier(12,2,10))"
   ]
  },
  {
   "cell_type": "code",
   "execution_count": 23,
   "metadata": {},
   "outputs": [],
   "source": [
    "from string import punctuation\n",
    "def clearner(data, chars=None):\n",
    "    if chars is None:\n",
    "        chars=punctuation\n",
    "    for c in chars:\n",
    "        data=data.replace(c,'')\n",
    "    return data\n"
   ]
  },
  {
   "cell_type": "code",
   "execution_count": 24,
   "metadata": {},
   "outputs": [
    {
     "data": {
      "text/plain": [
       "'hello'"
      ]
     },
     "execution_count": 24,
     "metadata": {},
     "output_type": "execute_result"
    }
   ],
   "source": [
    "clearner('!@##$$%$%%%he%^&^^%$$l{l{**^&%^%o')"
   ]
  },
  {
   "cell_type": "code",
   "execution_count": 25,
   "metadata": {},
   "outputs": [
    {
     "data": {
      "text/plain": [
       "'hello'"
      ]
     },
     "execution_count": 25,
     "metadata": {},
     "output_type": "execute_result"
    }
   ],
   "source": [
    "clearner('he@{}ll[]*o',chars='@{}[]*')"
   ]
  },
  {
   "cell_type": "code",
   "execution_count": 29,
   "metadata": {},
   "outputs": [],
   "source": [
    "def multiplier(*nums):\n",
    "    result = 1\n",
    "    for num in nums:\n",
    "        result*=num\n",
    "    return result"
   ]
  },
  {
   "cell_type": "code",
   "execution_count": 30,
   "metadata": {},
   "outputs": [
    {
     "name": "stdout",
     "output_type": "stream",
     "text": [
      "1\n",
      "2\n",
      "8160\n"
     ]
    }
   ],
   "source": [
    "print(multiplier())\n",
    "print(multiplier(2))\n",
    "print(multiplier(12,34,5,4))"
   ]
  },
  {
   "cell_type": "code",
   "execution_count": 31,
   "metadata": {},
   "outputs": [],
   "source": [
    "def aggregator(*x, action='sum'):\n",
    "    if action=='sum':\n",
    "        return sum(x)\n",
    "    elif action=='count':\n",
    "        return len(x)\n",
    "    elif action=='mean':\n",
    "        return sum(x)/len(x)"
   ]
  },
  {
   "cell_type": "code",
   "execution_count": 37,
   "metadata": {},
   "outputs": [
    {
     "name": "stdout",
     "output_type": "stream",
     "text": [
      "21\n",
      "5\n",
      "5.5\n"
     ]
    }
   ],
   "source": [
    "print(aggregator(1,2,3,4,5,6))\n",
    "print(aggregator(1,2,3,4,5, action='count'))\n",
    "print(aggregator(1,2,3,4,5,6,7,8,9,10, action='mean'))"
   ]
  },
  {
   "cell_type": "code",
   "execution_count": 5,
   "metadata": {},
   "outputs": [],
   "source": [
    "def sorter(*data,type='number'):\n",
    "    if type=='number':\n",
    "        clean_data=[]\n",
    "        for i in data:\n",
    "            if isinstance(i, int) or isinstance(i, float):\n",
    "                clean_data.append(i)\n",
    "        clean_data.sort()\n",
    "        return clean_data\n",
    "    else:\n",
    "        return None"
   ]
  },
  {
   "cell_type": "code",
   "execution_count": 3,
   "metadata": {},
   "outputs": [
    {
     "data": {
      "text/plain": [
       "[2, 3, 4, 6, 6, 8, 11]"
      ]
     },
     "execution_count": 3,
     "metadata": {},
     "output_type": "execute_result"
    }
   ],
   "source": [
    "sorter(11,6,8,4,3,2,6,)"
   ]
  },
  {
   "cell_type": "code",
   "execution_count": 4,
   "metadata": {},
   "outputs": [
    {
     "data": {
      "text/plain": [
       "[11, 12, 13, 14, 19, 56, 78, 98]"
      ]
     },
     "execution_count": 4,
     "metadata": {},
     "output_type": "execute_result"
    }
   ],
   "source": [
    "sorter(11,12,13,14,19,56,'a','b',78,98)"
   ]
  },
  {
   "cell_type": "code",
   "execution_count": 12,
   "metadata": {},
   "outputs": [],
   "source": [
    "def display_data(**data):\n",
    "    print(\"Your data:\")\n",
    "    total = 0\n",
    "    for k,v in data.items():\n",
    "        print(f'{k:10}{v}')\n",
    "        total += v\n",
    "    print('-'*20)\n",
    "    print(f'Total: Rs.{total}')\n",
    "    print('-'*20)\n"
   ]
  },
  {
   "cell_type": "code",
   "execution_count": 13,
   "metadata": {},
   "outputs": [
    {
     "name": "stdout",
     "output_type": "stream",
     "text": [
      "Your data:\n",
      "POCOF1    25000\n",
      "SamsungS2 140000\n",
      "OPPORENO8 64000\n",
      "--------------------\n",
      "Total: Rs.229000\n",
      "--------------------\n"
     ]
    }
   ],
   "source": [
    "display_data(POCOF1=25000, SamsungS2=140000, OPPORENO8= 64000)"
   ]
  },
  {
   "cell_type": "code",
   "execution_count": 16,
   "metadata": {},
   "outputs": [
    {
     "name": "stdout",
     "output_type": "stream",
     "text": [
      "210\n",
      "80\n",
      "60\n"
     ]
    }
   ],
   "source": [
    "f=lambda x: x**2 + x*10 + x\n",
    "print(f(10))\n",
    "print(f(5))\n",
    "print(f(4))"
   ]
  },
  {
   "cell_type": "code",
   "execution_count": 18,
   "metadata": {},
   "outputs": [
    {
     "name": "stdout",
     "output_type": "stream",
     "text": [
      "18\n",
      "708\n",
      "4359\n"
     ]
    }
   ],
   "source": [
    "g=lambda x,y: x**3+y**4+x*y-1\n",
    "print(g(1,2))\n",
    "print(g(4,5))\n",
    "print(g(6,8))"
   ]
  },
  {
   "cell_type": "code",
   "execution_count": 22,
   "metadata": {},
   "outputs": [
    {
     "data": {
      "text/plain": [
       "19.1049731745428"
      ]
     },
     "execution_count": 22,
     "metadata": {},
     "output_type": "execute_result"
    }
   ],
   "source": [
    "f= lambda p,b: (p**2+b**2)**.5\n",
    "f(13,14)\n"
   ]
  },
  {
   "cell_type": "markdown",
   "metadata": {},
   "source": [
    "MAP:list of data -> operation -> new list of data\n",
    "FILTER: list of data -> condition -> new list of data"
   ]
  },
  {
   "cell_type": "code",
   "execution_count": 23,
   "metadata": {},
   "outputs": [
    {
     "name": "stdout",
     "output_type": "stream",
     "text": [
      "[8, 27, 64, 125, 216, 32768, 79507, 157464]\n"
     ]
    }
   ],
   "source": [
    "x=[2,3,4,5,6,32,43,54]\n",
    "x3=list(map(lambda i:i**3,x))\n",
    "print(x3)"
   ]
  },
  {
   "cell_type": "code",
   "execution_count": 25,
   "metadata": {},
   "outputs": [
    {
     "name": "stdout",
     "output_type": "stream",
     "text": [
      "[7, 16, 27, 40, 55, 72]\n"
     ]
    }
   ],
   "source": [
    "x=[1,2,3,4,5,6]\n",
    "y=[7,8,9,10,11,12]\n",
    "xy=list(map(lambda i,j: i*j, x,y))\n",
    "print(xy)"
   ]
  },
  {
   "cell_type": "code",
   "execution_count": 26,
   "metadata": {},
   "outputs": [
    {
     "name": "stdout",
     "output_type": "stream",
     "text": [
      "[1, 3, 1, 3, 1, 3, 1, 5, 3]\n"
     ]
    }
   ],
   "source": [
    "a=[1,2,3,4,1,2,3,1,2,3,1,2,4,5,3]\n",
    "b=list(filter(lambda i: i%2==1, a))\n",
    "print(b)"
   ]
  },
  {
   "cell_type": "code",
   "execution_count": 28,
   "metadata": {},
   "outputs": [],
   "source": [
    "from random import randint"
   ]
  },
  {
   "cell_type": "code",
   "execution_count": 29,
   "metadata": {},
   "outputs": [],
   "source": [
    "def random_raange(s,e,size=10):\n",
    "    for i in range (size):\n",
    "        yield randint(s,e)"
   ]
  },
  {
   "cell_type": "code",
   "execution_count": 35,
   "metadata": {},
   "outputs": [
    {
     "data": {
      "text/plain": [
       "[5, 9, 10, 7]"
      ]
     },
     "execution_count": 35,
     "metadata": {},
     "output_type": "execute_result"
    }
   ],
   "source": [
    "list(random_raange(1,10,4))"
   ]
  },
  {
   "cell_type": "code",
   "execution_count": 36,
   "metadata": {},
   "outputs": [
    {
     "name": "stdout",
     "output_type": "stream",
     "text": [
      "92 22 96 37 39 45 28 26 99 22 24 5 93 30 10 "
     ]
    }
   ],
   "source": [
    "for i in random_raange(1,100,15):\n",
    "    print(i,end=' ')"
   ]
  },
  {
   "cell_type": "code",
   "execution_count": null,
   "metadata": {},
   "outputs": [],
   "source": []
  }
 ],
 "metadata": {
  "kernelspec": {
   "display_name": "base",
   "language": "python",
   "name": "python3"
  },
  "language_info": {
   "codemirror_mode": {
    "name": "ipython",
    "version": 3
   },
   "file_extension": ".py",
   "mimetype": "text/x-python",
   "name": "python",
   "nbconvert_exporter": "python",
   "pygments_lexer": "ipython3",
   "version": "3.10.10"
  },
  "orig_nbformat": 4
 },
 "nbformat": 4,
 "nbformat_minor": 2
}
