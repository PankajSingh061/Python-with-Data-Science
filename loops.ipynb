{
 "cells": [
  {
   "cell_type": "code",
   "execution_count": null,
   "metadata": {},
   "outputs": [],
   "source": [
    "Syntax\n",
    " ''' \n",
    " for temp in iterable:\n",
    " stateent1\n",
    " '''\n",
    " statement n"
   ]
  },
  {
   "cell_type": "code",
   "execution_count": 1,
   "metadata": {},
   "outputs": [
    {
     "data": {
      "text/plain": [
       "range(0, 10)"
      ]
     },
     "execution_count": 1,
     "metadata": {},
     "output_type": "execute_result"
    }
   ],
   "source": [
    "range(10)"
   ]
  },
  {
   "cell_type": "code",
   "execution_count": 2,
   "metadata": {},
   "outputs": [
    {
     "name": "stdout",
     "output_type": "stream",
     "text": [
      "0\n",
      "1\n",
      "2\n",
      "3\n",
      "4\n",
      "5\n",
      "6\n",
      "7\n",
      "8\n",
      "9\n"
     ]
    }
   ],
   "source": [
    "for i in range(10):\n",
    "    print(i)"
   ]
  },
  {
   "cell_type": "code",
   "execution_count": 3,
   "metadata": {},
   "outputs": [
    {
     "name": "stdout",
     "output_type": "stream",
     "text": [
      "5 10 15 20 25 30 35 40 45 50 55 60 65 70 75 80 85 90 95 "
     ]
    }
   ],
   "source": [
    "for i in range(5,100,5):\n",
    "    print(i, end=' ')"
   ]
  },
  {
   "cell_type": "code",
   "execution_count": 4,
   "metadata": {},
   "outputs": [
    {
     "name": "stdout",
     "output_type": "stream",
     "text": [
      "10 9 8 7 6 5 4 3 2 1 "
     ]
    }
   ],
   "source": [
    "for i in range(10,0,-1):\n",
    "    print(i, end=(' '))\n",
    "     "
   ]
  },
  {
   "cell_type": "code",
   "execution_count": 5,
   "metadata": {},
   "outputs": [
    {
     "name": "stdout",
     "output_type": "stream",
     "text": [
      "1 3 5 7 9 12 "
     ]
    }
   ],
   "source": [
    "data=[1,3,5,7,9,12]\n",
    "for i in data:\n",
    "    print(i, end=' ')"
   ]
  },
  {
   "cell_type": "code",
   "execution_count": 7,
   "metadata": {},
   "outputs": [
    {
     "name": "stdout",
     "output_type": "stream",
     "text": [
      "12 34 42 54 67 87 "
     ]
    }
   ],
   "source": [
    "#break and continue\n",
    "prices=[12,34,None,42,54,None,67,87,None]\n",
    "for pr in prices:\n",
    "    if pr is None:\n",
    "        continue\n",
    "    print(pr,end=' ')\n"
   ]
  },
  {
   "cell_type": "code",
   "execution_count": 8,
   "metadata": {},
   "outputs": [
    {
     "name": "stdout",
     "output_type": "stream",
     "text": [
      "12\n",
      "34\n",
      "the end\n"
     ]
    }
   ],
   "source": [
    "for item in prices:\n",
    "    if item is None:\n",
    "        break\n",
    "    print(item)\n",
    "print('the end')    "
   ]
  },
  {
   "cell_type": "code",
   "execution_count": 10,
   "metadata": {},
   "outputs": [
    {
     "name": "stdout",
     "output_type": "stream",
     "text": [
      "1\n",
      "1 2 3 \n",
      "2\n",
      "2 4 6 \n",
      "3\n",
      "3 6 9 \n",
      "4\n",
      "4 8 12 \n",
      "5\n",
      "5 10 15 \n"
     ]
    }
   ],
   "source": [
    "for i in range(1,6):\n",
    "    print(i)\n",
    "    for j in range(1,4):\n",
    "        print(i*j,end=' ')\n",
    "    print()"
   ]
  },
  {
   "cell_type": "markdown",
   "metadata": {},
   "source": [
    "-enumerate\n",
    "-zip\n",
    "-for-else\n"
   ]
  },
  {
   "cell_type": "code",
   "execution_count": null,
   "metadata": {},
   "outputs": [],
   "source": [
    "#enumrate:- work but count at the same time "
   ]
  },
  {
   "cell_type": "code",
   "execution_count": 11,
   "metadata": {},
   "outputs": [
    {
     "name": "stdout",
     "output_type": "stream",
     "text": [
      "(0, 'Radha')\n",
      "(1, 'Rohan')\n",
      "(2, 'Madhu')\n",
      "(3, 'Rajesh')\n"
     ]
    }
   ],
   "source": [
    "names=['Radha','Rohan','Madhu','Rajesh']\n",
    "for name in enumerate(names):\n",
    "    print(name)"
   ]
  },
  {
   "cell_type": "code",
   "execution_count": 12,
   "metadata": {},
   "outputs": [
    {
     "name": "stdout",
     "output_type": "stream",
     "text": [
      "0 Radha\n",
      "1 Rohan\n",
      "2 Madhu\n",
      "3 Rajesh\n"
     ]
    }
   ],
   "source": [
    "for idx, name in enumerate (names):\n",
    "    print(idx,name)"
   ]
  },
  {
   "cell_type": "code",
   "execution_count": 1,
   "metadata": {},
   "outputs": [
    {
     "name": "stdout",
     "output_type": "stream",
     "text": [
      "1\n",
      "2\n",
      "3\n",
      "4\n",
      "1\n",
      "2\n",
      "3\n",
      "4\n",
      "1\n",
      "2\n"
     ]
    }
   ],
   "source": [
    "x=[1,2,3,4,1,2,3,4,1,2,3,4,5,6,7,8,6,4,5,4,3,3,2,1,1,2,3]\n",
    "for i,v in enumerate(x):\n",
    "    if i==10:\n",
    "        break\n",
    "    print(v)"
   ]
  },
  {
   "cell_type": "code",
   "execution_count": 5,
   "metadata": {},
   "outputs": [
    {
     "name": "stdout",
     "output_type": "stream",
     "text": [
      "(0, 1)\n",
      "(1, 2)\n",
      "(2, 3)\n",
      "(3, 4)\n",
      "(4, 1)\n",
      "(5, 2)\n",
      "(6, 3)\n",
      "(7, 4)\n",
      "(8, 1)\n",
      "(9, 2)\n",
      "(10, 3)\n",
      "(11, 4)\n",
      "(12, 5)\n",
      "(13, 6)\n",
      "(14, 7)\n",
      "(15, 8)\n",
      "(16, 6)\n",
      "(17, 4)\n",
      "(18, 5)\n",
      "(19, 4)\n",
      "(20, 3)\n",
      "(21, 3)\n",
      "(22, 2)\n",
      "(23, 1)\n",
      "(24, 1)\n",
      "(25, 2)\n",
      "(26, 3)\n"
     ]
    }
   ],
   "source": [
    "for i in enumerate(x):\n",
    "    if i==10:\n",
    "        break\n",
    "    print(i)"
   ]
  },
  {
   "cell_type": "code",
   "execution_count": 4,
   "metadata": {},
   "outputs": [
    {
     "name": "stdout",
     "output_type": "stream",
     "text": [
      "0 1\n",
      "1 2\n",
      "2 3\n",
      "3 4\n",
      "4 1\n",
      "5 2\n",
      "6 3\n",
      "7 4\n",
      "8 1\n",
      "9 2\n",
      "10 3\n",
      "11 4\n",
      "12 5\n",
      "13 6\n",
      "14 7\n",
      "15 8\n",
      "16 6\n",
      "17 4\n",
      "18 5\n",
      "19 4\n",
      "20 3\n",
      "21 3\n",
      "22 2\n",
      "23 1\n",
      "24 1\n",
      "25 2\n",
      "26 3\n"
     ]
    }
   ],
   "source": [
    "for idx,i in enumerate(x):\n",
    "    if i==10:\n",
    "        break\n",
    "    print(idx,i)"
   ]
  },
  {
   "cell_type": "code",
   "execution_count": 7,
   "metadata": {},
   "outputs": [
    {
     "name": "stdout",
     "output_type": "stream",
     "text": [
      "(1, 5, 2)\n",
      "(2, 6, 3)\n",
      "(3, 7, 6)\n",
      "(4, 8, 6)\n"
     ]
    }
   ],
   "source": [
    "x=[1,2,3,4]\n",
    "y=[5,6,7,8]\n",
    "z=[2,3,6,6]\n",
    "for i in zip(x,y,z):\n",
    "    print(i)"
   ]
  },
  {
   "cell_type": "code",
   "execution_count": 8,
   "metadata": {},
   "outputs": [
    {
     "name": "stdout",
     "output_type": "stream",
     "text": [
      "8\n",
      "11\n",
      "16\n",
      "18\n"
     ]
    }
   ],
   "source": [
    "for i,j,k in zip(x,y,z):\n",
    "    print(i+j+k)"
   ]
  },
  {
   "cell_type": "markdown",
   "metadata": {},
   "source": [
    "for-else \n",
    "        if all the iterations of the loop are completed without any break, then the else part is executed else part is not executed if the loop is terminated by a break statement."
   ]
  },
  {
   "cell_type": "code",
   "execution_count": 9,
   "metadata": {},
   "outputs": [
    {
     "name": "stdout",
     "output_type": "stream",
     "text": [
      "1\n",
      "2\n",
      "3\n",
      "4\n",
      "completed without break\n"
     ]
    }
   ],
   "source": [
    "for i in x:\n",
    "    if i==13:\n",
    "        break\n",
    "    print(i)\n",
    "else:\n",
    "    print(\"completed without break\")"
   ]
  },
  {
   "cell_type": "code",
   "execution_count": 10,
   "metadata": {},
   "outputs": [
    {
     "name": "stdout",
     "output_type": "stream",
     "text": [
      "1\n",
      "2\n"
     ]
    }
   ],
   "source": [
    "for i in x:\n",
    "    if i==3:\n",
    "        break\n",
    "    print(i)\n",
    "else:\n",
    "    print(\"completed without break\")"
   ]
  },
  {
   "cell_type": "code",
   "execution_count": 16,
   "metadata": {},
   "outputs": [
    {
     "name": "stdout",
     "output_type": "stream",
     "text": [
      "11%2=1\n",
      "11%3=2\n",
      "11%4=3\n",
      "11%5=1\n",
      "11%6=5\n",
      "11%7=4\n",
      "11%8=3\n",
      "11%9=2\n",
      "11%10=1\n",
      "prime\n"
     ]
    }
   ],
   "source": [
    "num=11\n",
    "for i in range(2,num):\n",
    "    print(f'{num}%{i}={num%i}')\n",
    "    if num%i==0:\n",
    "        print('not prime')\n",
    "        break\n",
    "else:\n",
    "    print('prime')"
   ]
  },
  {
   "cell_type": "code",
   "execution_count": null,
   "metadata": {},
   "outputs": [],
   "source": []
  }
 ],
 "metadata": {
  "kernelspec": {
   "display_name": "base",
   "language": "python",
   "name": "python3"
  },
  "language_info": {
   "codemirror_mode": {
    "name": "ipython",
    "version": 3
   },
   "file_extension": ".py",
   "mimetype": "text/x-python",
   "name": "python",
   "nbconvert_exporter": "python",
   "pygments_lexer": "ipython3",
   "version": "3.10.10"
  },
  "orig_nbformat": 4
 },
 "nbformat": 4,
 "nbformat_minor": 2
}
