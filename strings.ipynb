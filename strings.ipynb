{
 "cells": [
  {
   "cell_type": "code",
   "execution_count": null,
   "metadata": {},
   "outputs": [],
   "source": [
    "#Strings\n",
    "#-create\n",
    "#-index and sclice\n",
    "#-methods"
   ]
  },
  {
   "cell_type": "code",
   "execution_count": 6,
   "metadata": {},
   "outputs": [
    {
     "name": "stdout",
     "output_type": "stream",
     "text": [
      "<class 'str'> <class 'str'> <class 'str'>\n",
      "<class 'str'>\n"
     ]
    }
   ],
   "source": [
    "a='Apple'\n",
    "b=\"Banana\"\n",
    "c='''This \n",
    "is a string \n",
    "of multiple lines'''\n",
    "print(type(a),type(b),type(c))\n",
    "d=str(123)#convert to strings\n",
    "print(type(d))"
   ]
  },
  {
   "cell_type": "code",
   "execution_count": 7,
   "metadata": {},
   "outputs": [
    {
     "data": {
      "text/plain": [
       "'AppleAppleAppleAppleApple'"
      ]
     },
     "execution_count": 7,
     "metadata": {},
     "output_type": "execute_result"
    }
   ],
   "source": [
    "#string dluplication\n",
    "a*5"
   ]
  },
  {
   "cell_type": "code",
   "execution_count": 12,
   "metadata": {},
   "outputs": [
    {
     "data": {
      "text/plain": [
       "'AppleBanana'"
      ]
     },
     "execution_count": 12,
     "metadata": {},
     "output_type": "execute_result"
    }
   ],
   "source": [
    "#string concatenation\n",
    "a + b"
   ]
  },
  {
   "cell_type": "code",
   "execution_count": 14,
   "metadata": {},
   "outputs": [
    {
     "data": {
      "text/plain": [
       "'Ani'"
      ]
     },
     "execution_count": 14,
     "metadata": {},
     "output_type": "execute_result"
    }
   ],
   "source": [
    "a[0]+b[4]+c[2]"
   ]
  },
  {
   "cell_type": "code",
   "execution_count": 18,
   "metadata": {},
   "outputs": [
    {
     "ename": "SyntaxError",
     "evalue": "invalid syntax (4064311568.py, line 1)",
     "output_type": "error",
     "traceback": [
      "\u001b[1;36m  Cell \u001b[1;32mIn[18], line 1\u001b[1;36m\u001b[0m\n\u001b[1;33m    a=[0:3]\u001b[0m\n\u001b[1;37m        ^\u001b[0m\n\u001b[1;31mSyntaxError\u001b[0m\u001b[1;31m:\u001b[0m invalid syntax\n"
     ]
    }
   ],
   "source": [
    "a=[0:3]"
   ]
  },
  {
   "cell_type": "code",
   "execution_count": 19,
   "metadata": {},
   "outputs": [
    {
     "name": "stdout",
     "output_type": "stream",
     "text": [
      "Vijay\n"
     ]
    }
   ],
   "source": [
    "name='Vijay Deenanath chauhan'\n",
    "print(name[0:5])"
   ]
  },
  {
   "cell_type": "code",
   "execution_count": 25,
   "metadata": {},
   "outputs": [
    {
     "name": "stdout",
     "output_type": "stream",
     "text": [
      "Deenanath\n"
     ]
    }
   ],
   "source": [
    "print(name[6:15])"
   ]
  },
  {
   "cell_type": "code",
   "execution_count": 24,
   "metadata": {},
   "outputs": [
    {
     "name": "stdout",
     "output_type": "stream",
     "text": [
      " chauhan\n"
     ]
    }
   ],
   "source": [
    "print(name[15:23])"
   ]
  },
  {
   "cell_type": "code",
   "execution_count": 27,
   "metadata": {},
   "outputs": [
    {
     "name": "stdout",
     "output_type": "stream",
     "text": [
      "chauhan\n"
     ]
    }
   ],
   "source": [
    "print(name[16:len(name)])#when start of the is not given, it is assumed to be"
   ]
  },
  {
   "cell_type": "code",
   "execution_count": 29,
   "metadata": {},
   "outputs": [
    {
     "name": "stdout",
     "output_type": "stream",
     "text": [
      "Vijay\n"
     ]
    }
   ],
   "source": [
    "print(name[:5])#when ending index is not given, it is assumed to be len(name)"
   ]
  },
  {
   "cell_type": "code",
   "execution_count": 45,
   "metadata": {},
   "outputs": [
    {
     "name": "stdout",
     "output_type": "stream",
     "text": [
      "Vijay Deenanath chauha\n"
     ]
    }
   ],
   "source": [
    "print(name[0:-1])"
   ]
  },
  {
   "cell_type": "code",
   "execution_count": 35,
   "metadata": {},
   "outputs": [
    {
     "name": "stdout",
     "output_type": "stream",
     "text": [
      "VjyDeaahcahn\n",
      "ia ennt hua\n",
      "nahuahc htananeeD yajiV\n"
     ]
    }
   ],
   "source": [
    "print(name[::2])\n",
    "print(name[1::2])\n",
    "#reverse string\n",
    "print(name[::-1])"
   ]
  },
  {
   "cell_type": "markdown",
   "metadata": {},
   "source": [
    "String\n",
    "-formating methods\n",
    " -upper(), lower(), capatilization(), title(), swapcase()\n",
    "-validation methods\n",
    " -isupper(), islower(), istitle(), isalpha(), isnumeric()\n",
    " -startswith(), endswith()\n",
    "-utility methods\n",
    " -split(),join(),find(),replace(),strip(),count()"
   ]
  },
  {
   "cell_type": "code",
   "execution_count": 48,
   "metadata": {},
   "outputs": [
    {
     "name": "stdout",
     "output_type": "stream",
     "text": [
      "THIS IS A PYTHON STRING\n",
      "this is a python string\n",
      "This is a python string\n",
      "tHIS IS A python STRING\n",
      "this is a python string\n",
      "This Is A Python String\n",
      "This is a PYTHON string\n"
     ]
    }
   ],
   "source": [
    "msg='This is a PYTHON string'\n",
    "print(msg.upper())\n",
    "print(msg.lower())\n",
    "print(msg.capitalize())\n",
    "print(msg.swapcase())\n",
    "print(msg.casefold())\n",
    "print(msg.title())\n",
    "print(msg)"
   ]
  },
  {
   "cell_type": "code",
   "execution_count": 49,
   "metadata": {},
   "outputs": [
    {
     "name": "stdout",
     "output_type": "stream",
     "text": [
      "This Is A Python String\n"
     ]
    }
   ],
   "source": [
    "msg=msg.title()\n",
    "print(msg)"
   ]
  },
  {
   "cell_type": "code",
   "execution_count": 50,
   "metadata": {},
   "outputs": [
    {
     "data": {
      "text/plain": [
       "True"
      ]
     },
     "execution_count": 50,
     "metadata": {},
     "output_type": "execute_result"
    }
   ],
   "source": [
    "'hello'.islower()"
   ]
  },
  {
   "cell_type": "code",
   "execution_count": 51,
   "metadata": {},
   "outputs": [
    {
     "data": {
      "text/plain": [
       "False"
      ]
     },
     "execution_count": 51,
     "metadata": {},
     "output_type": "execute_result"
    }
   ],
   "source": [
    "'hello'.isupper()"
   ]
  },
  {
   "cell_type": "code",
   "execution_count": 57,
   "metadata": {},
   "outputs": [
    {
     "name": "stdout",
     "output_type": "stream",
     "text": [
      ">>> NUMBER123 <<<\n",
      "You entered a alphanumeric\n"
     ]
    }
   ],
   "source": [
    "x=input('enter a number:')\n",
    "print('>>>',x,'<<<')\n",
    "if x.isnumeric():\n",
    "    print('You enter a number')\n",
    "if x.isalpha():\n",
    "    print('You entered a string')\n",
    "if x.isalnum():\n",
    "    print('You entered a alphanumeric')\n",
    "if x.islower():\n",
    "    print('You entered a lowercase string')"
   ]
  },
  {
   "cell_type": "code",
   "execution_count": 58,
   "metadata": {},
   "outputs": [
    {
     "name": "stdout",
     "output_type": "stream",
     "text": [
      "True\n",
      "False\n"
     ]
    }
   ],
   "source": [
    "person='Mr. Smith'\n",
    "print(person.startswith(\"Mr.\"))\n",
    "print(person.startswith(\"Ms.\"))"
   ]
  },
  {
   "cell_type": "code",
   "execution_count": 59,
   "metadata": {},
   "outputs": [
    {
     "name": "stdout",
     "output_type": "stream",
     "text": [
      "Blue\n",
      "Brown\n"
     ]
    }
   ],
   "source": [
    "colors=['Red','Green','Blue','Brown']\n",
    "for color in colors:\n",
    "    if color.startswith('B'):\n",
    "        print(color)"
   ]
  },
  {
   "cell_type": "code",
   "execution_count": 60,
   "metadata": {},
   "outputs": [
    {
     "name": "stdout",
     "output_type": "stream",
     "text": [
      "JPG found>> 1.jpg\n",
      "PNG found>> 2.png\n",
      "PNG found>> 3.png\n",
      "PNG found>> 4.png\n",
      "JPG found>> 5.jpg\n"
     ]
    }
   ],
   "source": [
    "img=['1.jpg','2.png','3.png','4.png','5.jpg']\n",
    "for images in img:\n",
    "    if images.endswith('.png'):\n",
    "        print(\"PNG found>>\",images)\n",
    "    if images.endswith('.jpg'):\n",
    "        print(\"JPG found>>\",images)"
   ]
  },
  {
   "cell_type": "code",
   "execution_count": 1,
   "metadata": {},
   "outputs": [
    {
     "name": "stdout",
     "output_type": "stream",
     "text": [
      "Life Before Death, Strength Before Weakness, Journey Before Destination\n",
      "['Life', 'Before', 'Death,', 'Strength', 'Before', 'Weakness,', 'Journey', 'Before', 'Destination']\n",
      "['Life Before Death', ' Strength Before Weakness', ' Journey Before Destination']\n",
      "['Lif', ' B', 'for', ' D', 'ath, Str', 'ngth B', 'for', ' W', 'akn', 'ss, Journ', 'y B', 'for', ' D', 'stination']\n",
      "71\n"
     ]
    }
   ],
   "source": [
    "quote='Life Before Death, Strength Before Weakness, Journey Before Destination'\n",
    "print(quote)\n",
    "print(quote.split())\n",
    "print(quote.split(','))\n",
    "print(quote.split('e'))\n",
    "print(len(quote))"
   ]
  },
  {
   "cell_type": "code",
   "execution_count": 9,
   "metadata": {},
   "outputs": [
    {
     "name": "stdout",
     "output_type": "stream",
     "text": [
      "AlexAlexaAlexisAlexander\n",
      "Alex , Alexa , Alexis , Alexander\n",
      "Alex ---- Alexa ---- Alexis ---- Alexander\n",
      "Alexa Alexaa Alexisa Alexander\n",
      "Alex+Alexa+Alexis+Alexander\n"
     ]
    }
   ],
   "source": [
    "x=['Alex','Alexa','Alexis','Alexander']\n",
    "' '.join(x)\n",
    "print(\"\".join(x))\n",
    "print(\" , \".join(x))\n",
    "print(\" ---- \".join(x))\n",
    "print(\"a \".join(x))\n",
    "print(\"+\".join(x))"
   ]
  },
  {
   "cell_type": "code",
   "execution_count": 10,
   "metadata": {},
   "outputs": [
    {
     "data": {
      "text/plain": [
       "7"
      ]
     },
     "execution_count": 10,
     "metadata": {},
     "output_type": "execute_result"
    }
   ],
   "source": [
    "story='Once upon a time, there was a king, who left his kingdom to the queen, she ruled over it'\n",
    "story.find('on')"
   ]
  },
  {
   "cell_type": "code",
   "execution_count": 12,
   "metadata": {},
   "outputs": [
    {
     "name": "stdout",
     "output_type": "stream",
     "text": [
      "7\n",
      "30\n",
      "64\n",
      "-1\n",
      "49\n",
      "60\n"
     ]
    }
   ],
   "source": [
    "print(story.find('on'))\n",
    "print(story.find('king'))\n",
    "print(story.find('queen'))\n",
    "print(story.find('prince'))\n",
    "print(story.find('king',31)) #31 is the starting index for the searching \n",
    "print(story.rfind('the')) #rfind() searches from the right side"
   ]
  },
  {
   "cell_type": "code",
   "execution_count": 17,
   "metadata": {},
   "outputs": [
    {
     "name": "stdout",
     "output_type": "stream",
     "text": [
      "Once upon a tome, there was a kong, who left hos kongdom to the queen, she ruled over ot\n",
      "Once upon a time, thisre was a king, who left his kingdom to this queen, she ruled over it\n",
      "Once upon a year, there is a king, who leaves his kingdom to the queen, she ruled over it\n",
      "Once upon  time, there ws  king, who left his kingdom to the queen, she ruled over it\n",
      "Once upon a time, there was a , who left his dom to the queen, she ruled over it\n"
     ]
    }
   ],
   "source": [
    "print(story.replace('i','o'))\n",
    "print(story.replace('the','this'))\n",
    "print(story.replace('time','year').replace('was','is').replace('left','leaves'))\n",
    "print(story.replace('a',''))\n",
    "print(story.replace('king',''))"
   ]
  },
  {
   "cell_type": "code",
   "execution_count": 34,
   "metadata": {},
   "outputs": [
    {
     "name": "stdout",
     "output_type": "stream",
     "text": [
      "Once upon a time, there was a queen, who left his queendom to the queen, she ruled over it\n",
      "3\n",
      "3\n",
      "0\n",
      "1\n"
     ]
    },
    {
     "data": {
      "text/plain": [
       "31"
      ]
     },
     "execution_count": 34,
     "metadata": {},
     "output_type": "execute_result"
    }
   ],
   "source": [
    "story=story.replace('king','queen')\n",
    "print(story)\n",
    "print(story.count('queen'))\n",
    "print(story.count('a'))\n",
    "print(story.count('this'))\n",
    "print(story.count('is'))\n",
    "#total vowels in story\n",
    "story.count('a')+story.count('e')+story.count('i')+story.count('o')+story.count('u')"
   ]
  },
  {
   "cell_type": "code",
   "execution_count": 26,
   "metadata": {},
   "outputs": [
    {
     "name": "stdout",
     "output_type": "stream",
     "text": [
      "hello 6 5\n"
     ]
    }
   ],
   "source": [
    "data=' hello'\n",
    "cdata=data.strip()\n",
    "print(cdata, len(data), len(cdata))"
   ]
  },
  {
   "cell_type": "code",
   "execution_count": 28,
   "metadata": {},
   "outputs": [
    {
     "name": "stdout",
     "output_type": "stream",
     "text": [
      "\n",
      " rs.10000\n",
      "\n",
      "rs.10000\n"
     ]
    }
   ],
   "source": [
    "kachra='''\n",
    " rs.10000\n",
    "'''\n",
    "print(kachra)\n",
    "print(kachra.strip())"
   ]
  },
  {
   "cell_type": "code",
   "execution_count": 29,
   "metadata": {},
   "outputs": [
    {
     "name": "stdout",
     "output_type": "stream",
     "text": [
      "1.\n",
      "2.\n",
      "3.\n",
      "4.\n",
      "5.\n"
     ]
    }
   ],
   "source": [
    "img=['1.jpg','2.png','3.png','4.png','5.jpg']\n",
    "for images in img:\n",
    "    images=images.removesuffix('png').removesuffix('jpg')\n",
    "    print(images)"
   ]
  },
  {
   "cell_type": "code",
   "execution_count": 31,
   "metadata": {},
   "outputs": [
    {
     "name": "stdout",
     "output_type": "stream",
     "text": [
      "100000\n",
      "200000\n",
      "120000\n",
      "150000\n",
      "200000\n"
     ]
    }
   ],
   "source": [
    "prices=['Rs.100000','Rs.200000','Rs.120000','Rs.150000','Rs.200000']\n",
    "for price in prices:\n",
    "    pr=price.removeprefix('Rs.')\n",
    "    print(int(pr))"
   ]
  },
  {
   "cell_type": "code",
   "execution_count": 37,
   "metadata": {},
   "outputs": [],
   "source": [
    "content='''The Zen of Python, by Tim Peters\n",
    "Beautiful is better than ugly.\n",
    "Explicit is better than implicit.\n",
    "Simple is better than complex.\n",
    "Complex is better than complicated.\n",
    "Flat is better than nested.\n",
    "Sparse is better than dense.\n",
    "Readability counts.\n",
    "Special cases aren't special enough to break the rules.\n",
    "Although practicality beats purity.\n",
    "Errors should never pass silently.\n",
    "Unless explicitly silenced.\n",
    "In the face of ambiguity, refuse the temptation to guess.\n",
    "There should be one-- and preferably only one --obvious way to do it.\n",
    "Although that way may not be obvious at first unless you're Dutch.\n",
    "Now is better than never.\n",
    "Although never is often better than *right* now.\n",
    "If the implementation is hard to explain, it's a bad idea.\n",
    "If the implementation is easy to explain, it may be a good idea.\n",
    "Namespaces are one honking great idea -- let's do more of those!\n",
    "\n",
    "'''"
   ]
  },
  {
   "cell_type": "code",
   "execution_count": null,
   "metadata": {},
   "outputs": [],
   "source": [
    "import this"
   ]
  },
  {
   "cell_type": "code",
   "execution_count": 49,
   "metadata": {},
   "outputs": [
    {
     "name": "stdout",
     "output_type": "stream",
     "text": [
      "The                 3\n",
      "Zen                 3\n",
      "of                  2\n",
      "Python,             7\n",
      "by                  2\n",
      "Tim                 3\n",
      "Peters              6\n",
      "Beautiful           9\n",
      "is                  2\n",
      "better              6\n",
      "than                4\n",
      "ugly.               5\n",
      "Explicit            8\n",
      "is                  2\n",
      "better              6\n",
      "than                4\n",
      "implicit.           9\n",
      "Simple              6\n",
      "is                  2\n",
      "better              6\n",
      "than                4\n",
      "complex.            8\n",
      "Complex             7\n",
      "is                  2\n",
      "better              6\n",
      "than                4\n",
      "complicated.        12\n",
      "Flat                4\n",
      "is                  2\n",
      "better              6\n",
      "than                4\n",
      "nested.             7\n",
      "Sparse              6\n",
      "is                  2\n",
      "better              6\n",
      "than                4\n",
      "dense.              6\n",
      "Readability         11\n",
      "counts.             7\n",
      "Special             7\n",
      "cases               5\n",
      "aren't              6\n",
      "special             7\n",
      "enough              6\n",
      "to                  2\n",
      "break               5\n",
      "the                 3\n",
      "rules.              6\n",
      "Although            8\n",
      "practicality        12\n",
      "beats               5\n",
      "purity.             7\n",
      "Errors              6\n",
      "should              6\n",
      "never               5\n",
      "pass                4\n",
      "silently.           9\n",
      "Unless              6\n",
      "explicitly          10\n",
      "silenced.           9\n",
      "In                  2\n",
      "the                 3\n",
      "face                4\n",
      "of                  2\n",
      "ambiguity,          10\n",
      "refuse              6\n",
      "the                 3\n",
      "temptation          10\n",
      "to                  2\n",
      "guess.              6\n",
      "There               5\n",
      "should              6\n",
      "be                  2\n",
      "one--               5\n",
      "and                 3\n",
      "preferably          10\n",
      "only                4\n",
      "one                 3\n",
      "--obvious           9\n",
      "way                 3\n",
      "to                  2\n",
      "do                  2\n",
      "it.                 3\n",
      "Although            8\n",
      "that                4\n",
      "way                 3\n",
      "may                 3\n",
      "not                 3\n",
      "be                  2\n",
      "obvious             7\n",
      "at                  2\n",
      "first               5\n",
      "unless              6\n",
      "you're              6\n",
      "Dutch.              6\n",
      "Now                 3\n",
      "is                  2\n",
      "better              6\n",
      "than                4\n",
      "never.              6\n",
      "Although            8\n",
      "never               5\n",
      "is                  2\n",
      "often               5\n",
      "better              6\n",
      "than                4\n",
      "*right*             7\n",
      "now.                4\n",
      "If                  2\n",
      "the                 3\n",
      "implementation      14\n",
      "is                  2\n",
      "hard                4\n",
      "to                  2\n",
      "explain,            8\n",
      "it's                4\n",
      "a                   1\n",
      "bad                 3\n",
      "idea.               5\n",
      "If                  2\n",
      "the                 3\n",
      "implementation      14\n",
      "is                  2\n",
      "easy                4\n",
      "to                  2\n",
      "explain,            8\n",
      "it                  2\n",
      "may                 3\n",
      "be                  2\n",
      "a                   1\n",
      "good                4\n",
      "idea.               5\n",
      "Namespaces          10\n",
      "are                 3\n",
      "one                 3\n",
      "honking             7\n",
      "great               5\n",
      "idea                4\n",
      "--                  2\n",
      "let's               5\n",
      "do                  2\n",
      "more                4\n",
      "of                  2\n",
      "those!              6\n"
     ]
    }
   ],
   "source": [
    "content.split()\n",
    "for word in content.split():\n",
    "    print(f'{word:20}{len(word)}')"
   ]
  },
  {
   "cell_type": "code",
   "execution_count": 52,
   "metadata": {},
   "outputs": [
    {
     "name": "stdout",
     "output_type": "stream",
     "text": [
      "Dutch.              6\n",
      "--                  2\n",
      "temptation          10\n",
      "do                  2\n",
      "only                4\n",
      "Errors              6\n",
      "bad                 3\n",
      "Namespaces          10\n",
      "If                  2\n",
      "Although            8\n",
      "not                 3\n",
      "guess.              6\n",
      "you're              6\n",
      "nested.             7\n",
      "Special             7\n",
      "Zen                 3\n",
      "one                 3\n",
      "are                 3\n",
      "now.                4\n",
      "Tim                 3\n",
      "silenced.           9\n",
      "never.              6\n",
      "Flat                4\n",
      "good                4\n",
      "complicated.        12\n",
      "should              6\n",
      "idea                4\n",
      "honking             7\n",
      "the                 3\n",
      "be                  2\n",
      "idea.               5\n",
      "Sparse              6\n",
      "than                4\n",
      "Peters              6\n",
      "refuse              6\n",
      "Now                 3\n",
      "silently.           9\n",
      "counts.             7\n",
      "unless              6\n",
      "often               5\n",
      "a                   1\n",
      "special             7\n",
      "Simple              6\n",
      "break               5\n",
      "never               5\n",
      "great               5\n",
      "face                4\n",
      "*right*             7\n",
      "The                 3\n",
      "obvious             7\n",
      "it's                4\n",
      "explain,            8\n",
      "Explicit            8\n",
      "enough              6\n",
      "aren't              6\n",
      "pass                4\n",
      "rules.              6\n",
      "practicality        12\n",
      "purity.             7\n",
      "ugly.               5\n",
      "Complex             7\n",
      "more                4\n",
      "--obvious           9\n",
      "cases               5\n",
      "first               5\n",
      "easy                4\n",
      "by                  2\n",
      "is                  2\n",
      "Python,             7\n",
      "There               5\n",
      "explicitly          10\n",
      "In                  2\n",
      "may                 3\n",
      "to                  2\n",
      "dense.              6\n",
      "Readability         11\n",
      "way                 3\n",
      "implicit.           9\n",
      "that                4\n",
      "complex.            8\n",
      "and                 3\n",
      "hard                4\n",
      "ambiguity,          10\n",
      "one--               5\n",
      "preferably          10\n",
      "it                  2\n",
      "those!              6\n",
      "let's               5\n",
      "beats               5\n",
      "of                  2\n",
      "better              6\n",
      "Beautiful           9\n",
      "it.                 3\n",
      "implementation      14\n",
      "at                  2\n",
      "Unless              6\n"
     ]
    }
   ],
   "source": [
    "for word in set(content.split()):\n",
    "    print(f'{word:20}{len(word)}')"
   ]
  },
  {
   "cell_type": "code",
   "execution_count": null,
   "metadata": {},
   "outputs": [],
   "source": []
  }
 ],
 "metadata": {
  "kernelspec": {
   "display_name": "base",
   "language": "python",
   "name": "python3"
  },
  "language_info": {
   "codemirror_mode": {
    "name": "ipython",
    "version": 3
   },
   "file_extension": ".py",
   "mimetype": "text/x-python",
   "name": "python",
   "nbconvert_exporter": "python",
   "pygments_lexer": "ipython3",
   "version": "3.10.10"
  },
  "orig_nbformat": 4
 },
 "nbformat": 4,
 "nbformat_minor": 2
}
