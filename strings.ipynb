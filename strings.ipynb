{
 "cells": [
  {
   "cell_type": "code",
   "execution_count": null,
   "metadata": {},
   "outputs": [],
   "source": [
    "#Strings\n",
    "#-create\n",
    "#-index and sclice\n",
    "#-methods"
   ]
  },
  {
   "cell_type": "code",
   "execution_count": 6,
   "metadata": {},
   "outputs": [
    {
     "name": "stdout",
     "output_type": "stream",
     "text": [
      "<class 'str'> <class 'str'> <class 'str'>\n",
      "<class 'str'>\n"
     ]
    }
   ],
   "source": [
    "a='Apple'\n",
    "b=\"Banana\"\n",
    "c='''This \n",
    "is a string \n",
    "of multiple lines'''\n",
    "print(type(a),type(b),type(c))\n",
    "d=str(123)#convert to strings\n",
    "print(type(d))"
   ]
  },
  {
   "cell_type": "code",
   "execution_count": 7,
   "metadata": {},
   "outputs": [
    {
     "data": {
      "text/plain": [
       "'AppleAppleAppleAppleApple'"
      ]
     },
     "execution_count": 7,
     "metadata": {},
     "output_type": "execute_result"
    }
   ],
   "source": [
    "#string dluplication\n",
    "a*5"
   ]
  },
  {
   "cell_type": "code",
   "execution_count": 12,
   "metadata": {},
   "outputs": [
    {
     "data": {
      "text/plain": [
       "'AppleBanana'"
      ]
     },
     "execution_count": 12,
     "metadata": {},
     "output_type": "execute_result"
    }
   ],
   "source": [
    "#string concatenation\n",
    "a + b"
   ]
  },
  {
   "cell_type": "code",
   "execution_count": 14,
   "metadata": {},
   "outputs": [
    {
     "data": {
      "text/plain": [
       "'Ani'"
      ]
     },
     "execution_count": 14,
     "metadata": {},
     "output_type": "execute_result"
    }
   ],
   "source": [
    "a[0]+b[4]+c[2]"
   ]
  },
  {
   "cell_type": "code",
   "execution_count": 18,
   "metadata": {},
   "outputs": [
    {
     "ename": "SyntaxError",
     "evalue": "invalid syntax (4064311568.py, line 1)",
     "output_type": "error",
     "traceback": [
      "\u001b[1;36m  Cell \u001b[1;32mIn[18], line 1\u001b[1;36m\u001b[0m\n\u001b[1;33m    a=[0:3]\u001b[0m\n\u001b[1;37m        ^\u001b[0m\n\u001b[1;31mSyntaxError\u001b[0m\u001b[1;31m:\u001b[0m invalid syntax\n"
     ]
    }
   ],
   "source": [
    "a=[0:3]"
   ]
  },
  {
   "cell_type": "code",
   "execution_count": 19,
   "metadata": {},
   "outputs": [
    {
     "name": "stdout",
     "output_type": "stream",
     "text": [
      "Vijay\n"
     ]
    }
   ],
   "source": [
    "name='Vijay Deenanath chauhan'\n",
    "print(name[0:5])"
   ]
  },
  {
   "cell_type": "code",
   "execution_count": 25,
   "metadata": {},
   "outputs": [
    {
     "name": "stdout",
     "output_type": "stream",
     "text": [
      "Deenanath\n"
     ]
    }
   ],
   "source": [
    "print(name[6:15])"
   ]
  },
  {
   "cell_type": "code",
   "execution_count": 24,
   "metadata": {},
   "outputs": [
    {
     "name": "stdout",
     "output_type": "stream",
     "text": [
      " chauhan\n"
     ]
    }
   ],
   "source": [
    "print(name[15:23])"
   ]
  },
  {
   "cell_type": "code",
   "execution_count": 27,
   "metadata": {},
   "outputs": [
    {
     "name": "stdout",
     "output_type": "stream",
     "text": [
      "chauhan\n"
     ]
    }
   ],
   "source": [
    "print(name[16:len(name)])#when start of the is not given, it is assumed to be"
   ]
  },
  {
   "cell_type": "code",
   "execution_count": 29,
   "metadata": {},
   "outputs": [
    {
     "name": "stdout",
     "output_type": "stream",
     "text": [
      "Vijay\n"
     ]
    }
   ],
   "source": [
    "print(name[:5])#when ending index is not given, it is assumed to be len(name)"
   ]
  },
  {
   "cell_type": "code",
   "execution_count": 45,
   "metadata": {},
   "outputs": [
    {
     "name": "stdout",
     "output_type": "stream",
     "text": [
      "Vijay Deenanath chauha\n"
     ]
    }
   ],
   "source": [
    "print(name[0:-1])"
   ]
  },
  {
   "cell_type": "code",
   "execution_count": 35,
   "metadata": {},
   "outputs": [
    {
     "name": "stdout",
     "output_type": "stream",
     "text": [
      "VjyDeaahcahn\n",
      "ia ennt hua\n",
      "nahuahc htananeeD yajiV\n"
     ]
    }
   ],
   "source": [
    "print(name[::2])\n",
    "print(name[1::2])\n",
    "#reverse string\n",
    "print(name[::-1])"
   ]
  },
  {
   "cell_type": "markdown",
   "metadata": {},
   "source": [
    "String\n",
    "-formating methods\n",
    " -upper(), lower(), capatilization(), title(), swapcase()\n",
    "-validation methods\n",
    " -isupper(), islower(), istitle(), isalpha(), isnumeric()\n",
    " -startswith(), endswith()\n",
    "-utility methods\n",
    " -split(),join(),find(),replace(),strip()"
   ]
  },
  {
   "cell_type": "code",
   "execution_count": 48,
   "metadata": {},
   "outputs": [
    {
     "name": "stdout",
     "output_type": "stream",
     "text": [
      "THIS IS A PYTHON STRING\n",
      "this is a python string\n",
      "This is a python string\n",
      "tHIS IS A python STRING\n",
      "this is a python string\n",
      "This Is A Python String\n",
      "This is a PYTHON string\n"
     ]
    }
   ],
   "source": [
    "msg='This is a PYTHON string'\n",
    "print(msg.upper())\n",
    "print(msg.lower())\n",
    "print(msg.capitalize())\n",
    "print(msg.swapcase())\n",
    "print(msg.casefold())\n",
    "print(msg.title())\n",
    "print(msg)"
   ]
  },
  {
   "cell_type": "code",
   "execution_count": 49,
   "metadata": {},
   "outputs": [
    {
     "name": "stdout",
     "output_type": "stream",
     "text": [
      "This Is A Python String\n"
     ]
    }
   ],
   "source": [
    "msg=msg.title()\n",
    "print(msg)"
   ]
  },
  {
   "cell_type": "code",
   "execution_count": 50,
   "metadata": {},
   "outputs": [
    {
     "data": {
      "text/plain": [
       "True"
      ]
     },
     "execution_count": 50,
     "metadata": {},
     "output_type": "execute_result"
    }
   ],
   "source": [
    "'hello'.islower()"
   ]
  },
  {
   "cell_type": "code",
   "execution_count": 51,
   "metadata": {},
   "outputs": [
    {
     "data": {
      "text/plain": [
       "False"
      ]
     },
     "execution_count": 51,
     "metadata": {},
     "output_type": "execute_result"
    }
   ],
   "source": [
    "'hello'.isupper()"
   ]
  },
  {
   "cell_type": "code",
   "execution_count": 57,
   "metadata": {},
   "outputs": [
    {
     "name": "stdout",
     "output_type": "stream",
     "text": [
      ">>> NUMBER123 <<<\n",
      "You entered a alphanumeric\n"
     ]
    }
   ],
   "source": [
    "x=input('enter a number:')\n",
    "print('>>>',x,'<<<')\n",
    "if x.isnumeric():\n",
    "    print('You enter a number')\n",
    "if x.isalpha():\n",
    "    print('You entered a string')\n",
    "if x.isalnum():\n",
    "    print('You entered a alphanumeric')\n",
    "if x.islower():\n",
    "    print('You entered a lowercase string')"
   ]
  },
  {
   "cell_type": "code",
   "execution_count": 58,
   "metadata": {},
   "outputs": [
    {
     "name": "stdout",
     "output_type": "stream",
     "text": [
      "True\n",
      "False\n"
     ]
    }
   ],
   "source": [
    "person='Mr. Smith'\n",
    "print(person.startswith(\"Mr.\"))\n",
    "print(person.startswith(\"Ms.\"))"
   ]
  },
  {
   "cell_type": "code",
   "execution_count": 59,
   "metadata": {},
   "outputs": [
    {
     "name": "stdout",
     "output_type": "stream",
     "text": [
      "Blue\n",
      "Brown\n"
     ]
    }
   ],
   "source": [
    "colors=['Red','Green','Blue','Brown']\n",
    "for color in colors:\n",
    "    if color.startswith('B'):\n",
    "        print(color)"
   ]
  },
  {
   "cell_type": "code",
   "execution_count": 60,
   "metadata": {},
   "outputs": [
    {
     "name": "stdout",
     "output_type": "stream",
     "text": [
      "JPG found>> 1.jpg\n",
      "PNG found>> 2.png\n",
      "PNG found>> 3.png\n",
      "PNG found>> 4.png\n",
      "JPG found>> 5.jpg\n"
     ]
    }
   ],
   "source": [
    "img=['1.jpg','2.png','3.png','4.png','5.jpg']\n",
    "for images in img:\n",
    "    if images.endswith('.png'):\n",
    "        print(\"PNG found>>\",images)\n",
    "    if images.endswith('.jpg'):\n",
    "        print(\"JPG found>>\",images)"
   ]
  },
  {
   "cell_type": "code",
   "execution_count": 69,
   "metadata": {},
   "outputs": [
    {
     "name": "stdout",
     "output_type": "stream",
     "text": [
      "Life Before Death, Strength Before Weakness, Journey Before Destination\n",
      "['Life', 'Before', 'Death,', 'Strength', 'Before', 'Weakness,', 'Journey', 'Before', 'Destination']\n",
      "['Life Before Death', ' Strength Before Weakness', ' Journey Before Destination']\n",
      "['Lif', ' B', 'for', ' D', 'ath, Str', 'ngth B', 'for', ' W', 'akn', 'ss, Journ', 'y B', 'for', ' D', 'stination']\n",
      "71\n"
     ]
    }
   ],
   "source": [
    "quote='Life Before Death, Strength Before Weakness, Journey Before Destination'\n",
    "print(quote)\n",
    "print(quote.split())\n",
    "print(quote.split(','))\n",
    "print(quote.split('e'))\n",
    "print(len(quote))"
   ]
  },
  {
   "cell_type": "code",
   "execution_count": null,
   "metadata": {},
   "outputs": [],
   "source": []
  }
 ],
 "metadata": {
  "kernelspec": {
   "display_name": "base",
   "language": "python",
   "name": "python3"
  },
  "language_info": {
   "codemirror_mode": {
    "name": "ipython",
    "version": 3
   },
   "file_extension": ".py",
   "mimetype": "text/x-python",
   "name": "python",
   "nbconvert_exporter": "python",
   "pygments_lexer": "ipython3",
   "version": "3.10.10"
  },
  "orig_nbformat": 4
 },
 "nbformat": 4,
 "nbformat_minor": 2
}
