{
 "cells": [
  {
   "cell_type": "code",
   "execution_count": 15,
   "metadata": {},
   "outputs": [],
   "source": [
    "from bs4 import BeautifulSoup\n",
    "import requests"
   ]
  },
  {
   "cell_type": "code",
   "execution_count": 16,
   "metadata": {},
   "outputs": [],
   "source": [
    "url = 'https://www.flipkart.com/search?q=tv&page=1'\n"
   ]
  },
  {
   "cell_type": "code",
   "execution_count": 17,
   "metadata": {},
   "outputs": [
    {
     "name": "stdout",
     "output_type": "stream",
     "text": [
      "success\n"
     ]
    }
   ],
   "source": [
    "try:\n",
    "    response = requests.get(url)\n",
    "    soup = BeautifulSoup(response.text, 'html.parser')\n",
    "    print('success')\n",
    "except Exception as e:\n",
    "    print(e)"
   ]
  },
  {
   "cell_type": "code",
   "execution_count": 18,
   "metadata": {},
   "outputs": [
    {
     "name": "stdout",
     "output_type": "stream",
     "text": [
      "target found\n"
     ]
    }
   ],
   "source": [
    "target = soup.find('div', class_ = '_1YokD2 _3Mn1Gg')\n",
    "if target:\n",
    "    print('target found')\n",
    "else:\n",
    "    print('target not found')"
   ]
  },
  {
   "cell_type": "code",
   "execution_count": 19,
   "metadata": {},
   "outputs": [
    {
     "name": "stdout",
     "output_type": "stream",
     "text": [
      "products found\n",
      "total products:  26\n"
     ]
    }
   ],
   "source": [
    "products = target.find_all('div', class_ = '_1AtVbE col-12-12')\n",
    "if products:\n",
    "    print('products found')\n",
    "    total = len(products)\n",
    "    print('total products: ', total)\n",
    "else:\n",
    "    print('products not found')"
   ]
  },
  {
   "cell_type": "code",
   "execution_count": 20,
   "metadata": {},
   "outputs": [
    {
     "name": "stdout",
     "output_type": "stream",
     "text": [
      "Mi X Pro 108 cm (43 inch) Ultra HD (4K) LED Smart Google TV 2023 Edition with 4K Dolby Vision IQ | HDR...\n",
      "25,657 Ratings & 2,610 Reviews\n",
      "₹32,999\n",
      "MarQ by Flipkart 80 cm (32 inch) HD Ready LED Smart Coolita TV\n",
      "171 Ratings & 21 Reviews\n",
      "₹6,999\n",
      "Mi 5A 80 cm (32 inch) HD Ready LED Smart Android TV with Dolby Audio (2022 Model)\n",
      "4,70,345 Ratings & 47,305 Reviews\n",
      "₹11,499\n",
      "Hisense A6H 108 cm (43 inch) Ultra HD (4K) LED Smart Google TV 2022 Edition with Hands Free Voice Cont...\n",
      "2,344 Ratings & 327 Reviews\n",
      "₹19,999\n",
      "LG 80 cm (32 inch) HD Ready LED Smart WebOS TV\n",
      "61,630 Ratings & 5,309 Reviews\n",
      "₹13,490\n",
      "Hisense Tornado 139 cm (55 inch) Ultra HD (4K) LED Smart Google TV 2022 Edition with 102W JBL 6 Speake...\n",
      "2,818 Ratings & 415 Reviews\n",
      "₹33,990\n",
      "Mi 5A 108 cm (43 inch) Full HD LED Smart Android TV with Dolby Audio (2022 Model)\n",
      "4,70,345 Ratings & 47,305 Reviews\n",
      "₹21,999\n",
      "BeethoSOL 109 cm (43 inch) Full HD LED Smart Android TV\n",
      "58 Ratings & 6 Reviews\n",
      "₹14,499\n",
      "BeethoSOL 80 cm (32 inch) HD Ready LED Smart Android TV\n",
      "2,163 Ratings & 272 Reviews\n",
      "₹7,499\n",
      "BeethoSOL 108 cm (43 inch) Full HD LED Smart Android Based TV\n",
      "2,199 Ratings & 200 Reviews\n",
      "₹14,499\n",
      "BeethoSOL 60 cm (24 inch) HD Ready LED TV\n",
      "2,163 Ratings & 272 Reviews\n",
      "₹5,299\n",
      "BeethoSOL 80 cm (32 inch) HD Ready LED TV\n",
      "1,268 Ratings & 158 Reviews\n",
      "₹6,999\n",
      "TCL 80.04 cm (32 inch) HD Ready LED Smart Android TV 2022 Edition with Google Assistant\n",
      "2,278 Ratings & 261 Reviews\n",
      "₹9,990\n",
      "Hisense A6H 126 cm (50 inch) Ultra HD (4K) LED Smart Google TV with Hands Free Voice Control, Dolby Vi...\n",
      "2,344 Ratings & 327 Reviews\n",
      "₹24,999\n",
      "MarQ by Flipkart by Flipkart 80 cm (32 inch) HD Ready LED TV\n",
      "7,384 Ratings & 898 Reviews\n",
      "₹6,499\n",
      "Infinix Y1 80 cm (32 inch) HD Ready LED Smart Linux TV 2022 Edition with Wall Mount\n",
      "35,068 Ratings & 4,235 Reviews\n",
      "₹8,999\n",
      "BeethoSOL 80 cm (32 inch) HD Ready LED Smart Android Based TV\n",
      "2,199 Ratings & 200 Reviews\n",
      "₹7,499\n",
      "BeethoSOL 80 cm (32 inch) HD Ready LED Smart Android Based TV\n",
      "2,163 Ratings & 272 Reviews\n",
      "₹7,999\n",
      "BeethoSOL 60 cm (24 inch) HD Ready LED TV\n",
      "2,199 Ratings & 200 Reviews\n",
      "₹5,499\n",
      "realme 80 cm (32 inch) Full HD LED Smart Android TV\n",
      "11,522 Ratings & 1,504 Reviews\n",
      "₹12,999\n",
      "Gangnam Street 108 cm (43 inch) Full HD LED Smart Android Based TV\n",
      "190 Ratings & 24 Reviews\n",
      "₹16,599\n",
      "Dyanora 60 cm (24 inch) HD Ready LED Smart Linux based TV with Noise Reduction, Powerful Audio Box Spe...\n",
      "4,464 Ratings & 458 Reviews\n",
      "₹6,799\n",
      "realme 80 cm (32 inch) HD Ready LED Smart Android TV 2023 Edition with Android 11\n",
      "2,13,647 Ratings & 23,268 Reviews\n",
      "₹12,999\n",
      "TCL 80.04 cm (32 inch) Full HD LED Smart Google TV 2022 Edition with Google Assistant\n",
      "805 Ratings & 121 Reviews\n",
      "₹11,990\n",
      "None\n",
      "None\n",
      "None\n",
      "None\n",
      "None\n",
      "None\n"
     ]
    }
   ],
   "source": [
    "for item in products:\n",
    "    try:title = item.find('div', class_ = '_4rR01T').text\n",
    "    except: title = None\n",
    "    \n",
    "    try:review_n_rating = item.find('span', class_='_2_R_DZ').text\n",
    "    except: review_n_rating = None\n",
    "    \n",
    "    try: price = item.find('div', class_='_30jeq3 _1_WHN1').text\n",
    "    except: price = None\n",
    "\n",
    "    print(title)\n",
    "    print(review_n_rating)\n",
    "    print(price)"
   ]
  },
  {
   "cell_type": "code",
   "execution_count": null,
   "metadata": {},
   "outputs": [],
   "source": []
  }
 ],
 "metadata": {
  "kernelspec": {
   "display_name": "base",
   "language": "python",
   "name": "python3"
  },
  "language_info": {
   "codemirror_mode": {
    "name": "ipython",
    "version": 3
   },
   "file_extension": ".py",
   "mimetype": "text/x-python",
   "name": "python",
   "nbconvert_exporter": "python",
   "pygments_lexer": "ipython3",
   "version": "3.10.10"
  },
  "orig_nbformat": 4
 },
 "nbformat": 4,
 "nbformat_minor": 2
}
