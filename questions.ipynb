{
 "cells": [
  {
   "cell_type": "markdown",
   "metadata": {},
   "source": [
    "wap to find all the indexes of a search element in a given list "
   ]
  },
  {
   "cell_type": "code",
   "execution_count": 6,
   "metadata": {},
   "outputs": [],
   "source": [
    "a=[1,1,2,3,4,5,6,1,2,2,2,3,3,5]\n",
    "search=0\n",
    "cnt=a.count(search)\n",
    "start=3\n",
    "for i in range(cnt):\n",
    "    idx=a.index(search,start)\n",
    "    start=idx + 1\n",
    "    print(idx)"
   ]
  },
  {
   "cell_type": "code",
   "execution_count": 10,
   "metadata": {},
   "outputs": [
    {
     "name": "stdout",
     "output_type": "stream",
     "text": [
      "[3, 11, 12]\n"
     ]
    }
   ],
   "source": [
    "a=[1,1,2,3,4,5,6,1,2,2,2,3,3,5]\n",
    "search=3\n",
    "result=[]\n",
    "cnt=a.count(search)\n",
    "start=0\n",
    "for i in range(cnt):\n",
    "    idx=a.index(search,start)\n",
    "    start=idx + 1\n",
    "    result.append(idx)\n",
    "print(result)"
   ]
  },
  {
   "cell_type": "code",
   "execution_count": 12,
   "metadata": {},
   "outputs": [
    {
     "name": "stdout",
     "output_type": "stream",
     "text": [
      "[0, 1, 1, 2, 3, 5, 8, 13, 21, 34, 55, 89, 144, 233, 377, 610, 987, 1597, 2584, 4181, 6765, 10946]\n"
     ]
    }
   ],
   "source": [
    "fib=[0,1]\n",
    "for i in range (20):\n",
    "    fib.append(fib[-1]+fib[-2])\n",
    "print(fib)"
   ]
  },
  {
   "cell_type": "code",
   "execution_count": 25,
   "metadata": {},
   "outputs": [
    {
     "name": "stdout",
     "output_type": "stream",
     "text": [
      "120\n"
     ]
    }
   ],
   "source": [
    "num=5\n",
    "f=1\n",
    "for i in range(1,num+1):\n",
    "    f=f*i\n",
    "print(f)\n",
    "    "
   ]
  },
  {
   "cell_type": "code",
   "execution_count": 27,
   "metadata": {},
   "outputs": [
    {
     "name": "stdout",
     "output_type": "stream",
     "text": [
      "['blue', 'white', 'purple', 'orange']\n"
     ]
    }
   ],
   "source": [
    "#filters\n",
    "colors=['red','green','blue','yellow','white','black','pink','purple','orange','brown','gray','cyan']\n",
    "        \n",
    "colors_with_n=[]\n",
    "\n",
    "for c in colors:\n",
    "    if c.endswith('e'):\n",
    "        colors_with_n.append(c)\n",
    "print(colors_with_n)"
   ]
  },
  {
   "cell_type": "code",
   "execution_count": 28,
   "metadata": {},
   "outputs": [
    {
     "name": "stdout",
     "output_type": "stream",
     "text": [
      "['red', 'green', 'blue', 'yellow', 'white', 'black', 'purple', 'orange', 'gray', 'cyan']\n"
     ]
    }
   ],
   "source": [
    "colors_having_ane=[]\n",
    "for c in colors:\n",
    "    if \"a\" in c or 'e' in c:\n",
    "        colors_having_ane.append(c)\n",
    "print(colors_having_ane)"
   ]
  },
  {
   "cell_type": "code",
   "execution_count": 29,
   "metadata": {},
   "outputs": [
    {
     "name": "stdout",
     "output_type": "stream",
     "text": [
      "[3, 4, 5, 6, 7, 8, 9, 10, 11, 12]\n"
     ]
    }
   ],
   "source": [
    "#mapping\n",
    "a=[1,2,3,4,5,6,7,8,9,10]\n",
    "a2=[]\n",
    "for num in a:\n",
    "    a2.append(num+2)\n",
    "print(a2)"
   ]
  },
  {
   "cell_type": "code",
   "execution_count": 35,
   "metadata": {},
   "outputs": [
    {
     "name": "stdout",
     "output_type": "stream",
     "text": [
      "[1, 4, 9, 16, 25, 36, 49, 64, 81, 100]\n"
     ]
    }
   ],
   "source": [
    "a=[1,2,3,4,5,6,7,8,9,10]\n",
    "a2=[]\n",
    "for num in a:\n",
    "    a2.append(num*num)    \n",
    "print(a2)"
   ]
  },
  {
   "cell_type": "code",
   "execution_count": 4,
   "metadata": {},
   "outputs": [
    {
     "ename": "TypeError",
     "evalue": "list.append() takes exactly one argument (2 given)",
     "output_type": "error",
     "traceback": [
      "\u001b[1;31m---------------------------------------------------------------------------\u001b[0m",
      "\u001b[1;31mTypeError\u001b[0m                                 Traceback (most recent call last)",
      "Cell \u001b[1;32mIn[4], line 5\u001b[0m\n\u001b[0;32m      3\u001b[0m \u001b[39mfor\u001b[39;00m name \u001b[39min\u001b[39;00m full_names:\n\u001b[0;32m      4\u001b[0m     words\u001b[39m=\u001b[39mname\u001b[39m.\u001b[39msplit()\n\u001b[1;32m----> 5\u001b[0m     short_names\u001b[39m.\u001b[39;49mappend(words[\u001b[39m0\u001b[39;49m][\u001b[39m0\u001b[39;49m],words[\u001b[39m-\u001b[39;49m\u001b[39m1\u001b[39;49m][\u001b[39m0\u001b[39;49m])\n\u001b[0;32m      6\u001b[0m short_names\u001b[39m.\u001b[39mshow()\n",
      "\u001b[1;31mTypeError\u001b[0m: list.append() takes exactly one argument (2 given)"
     ]
    }
   ],
   "source": [
    "full_names=['Amar Kumar','Vijay Singh','Rajesh Kumar', 'Rajesh Singh','Harish Pandey','Ajay Kumar Garg']\n",
    "short_names=[]\n",
    "for name in full_names:\n",
    "    words=name.split()\n",
    "    short_names.append(words[0][0],words[-1][0])\n",
    "\n"
   ]
  },
  {
   "cell_type": "code",
   "execution_count": null,
   "metadata": {},
   "outputs": [],
   "source": []
  },
  {
   "cell_type": "code",
   "execution_count": null,
   "metadata": {},
   "outputs": [],
   "source": []
  },
  {
   "cell_type": "code",
   "execution_count": null,
   "metadata": {},
   "outputs": [],
   "source": []
  }
 ],
 "metadata": {
  "kernelspec": {
   "display_name": "base",
   "language": "python",
   "name": "python3"
  },
  "language_info": {
   "codemirror_mode": {
    "name": "ipython",
    "version": 3
   },
   "file_extension": ".py",
   "mimetype": "text/x-python",
   "name": "python",
   "nbconvert_exporter": "python",
   "pygments_lexer": "ipython3",
   "version": "3.10.10"
  },
  "orig_nbformat": 4
 },
 "nbformat": 4,
 "nbformat_minor": 2
}
