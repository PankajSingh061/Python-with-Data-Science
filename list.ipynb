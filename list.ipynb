{
 "cells": [
  {
   "cell_type": "markdown",
   "metadata": {},
   "source": [
    "# List \n",
    "- index, ordered, mutable, can have duplicates. '[]', 'list()'\n",
    "- Ordered: the order of elements in a list is important and they are stored sequentially (one after another).\n",
    "- Mutable: it's possible to change an element value or add new ones at any time during its lifetime\n",
    "\n",
    "# Tuple\n",
    "-indexed, ordered, *immutable*, can have duplicates. '()', \"tuple()\"\n",
    "\n",
    "# Set\n",
    "-unindexed, unordered, mutable, *cannot have duplicates*, \"{}\", 'Set()'\n",
    "\n",
    "# dictionary\n",
    "-unindexed, ordered, mutable, *key:value pairs*, *immutable keys*,\"{\"key\":\"value\"}\", 'dict()'"
   ]
  },
  {
   "cell_type": "code",
   "execution_count": 1,
   "metadata": {},
   "outputs": [
    {
     "name": "stdout",
     "output_type": "stream",
     "text": [
      "[] ['red', 'green', 'blue'] [1, 2, 'red', False, True, None, [1, 2, 3]] [[1, 2, 3], [4, 5, 6]]\n"
     ]
    }
   ],
   "source": [
    "# creating List\n",
    "x=[] #empty list\n",
    "a = [1,2,3,4,5] #numeric list\n",
    "colors=['red','green','blue'] # string list\n",
    "mixed=[1,2,'red',False,True,None,[1,2,3]]# mixed list\n",
    "nested_list=[[1,2,3],[4,5,6]]\n",
    "print(x,colors,mixed,nested_list)"
   ]
  },
  {
   "cell_type": "code",
   "execution_count": 2,
   "metadata": {},
   "outputs": [
    {
     "name": "stdout",
     "output_type": "stream",
     "text": [
      "['A', 'l', 'e', 'x', 'a', 'n', 'd', 'e', 'r']\n"
     ]
    }
   ],
   "source": [
    "name=\"Alexander\"\n",
    "charlist=list(name)\n",
    "print(charlist)"
   ]
  },
  {
   "cell_type": "code",
   "execution_count": 3,
   "metadata": {},
   "outputs": [
    {
     "data": {
      "text/plain": [
       "['red', 'green', 'blue', 'red', 'green', 'blue', 'red', 'green', 'blue']"
      ]
     },
     "execution_count": 3,
     "metadata": {},
     "output_type": "execute_result"
    }
   ],
   "source": [
    "colors*3"
   ]
  },
  {
   "cell_type": "code",
   "execution_count": 4,
   "metadata": {},
   "outputs": [
    {
     "data": {
      "text/plain": [
       "[1, 2, 3, 4, 5, 'red', 'green', 'blue']"
      ]
     },
     "execution_count": 4,
     "metadata": {},
     "output_type": "execute_result"
    }
   ],
   "source": [
    "a+colors"
   ]
  },
  {
   "cell_type": "code",
   "execution_count": 5,
   "metadata": {},
   "outputs": [
    {
     "data": {
      "text/plain": [
       "10"
      ]
     },
     "execution_count": 5,
     "metadata": {},
     "output_type": "execute_result"
    }
   ],
   "source": [
    "colors=['red','green','blue','voilet','purple','black','white','orange','brown','pink']\n",
    "len(colors)"
   ]
  },
  {
   "cell_type": "code",
   "execution_count": 11,
   "metadata": {},
   "outputs": [
    {
     "name": "stdout",
     "output_type": "stream",
     "text": [
      "Red\n",
      "pink\n",
      "black\n",
      "Red\n"
     ]
    }
   ],
   "source": [
    "print(colors[0])\n",
    "print(colors[-1])\n",
    "print(colors[5])\n",
    "colors[0]='Red'\n",
    "print(colors[0])"
   ]
  },
  {
   "cell_type": "code",
   "execution_count": 9,
   "metadata": {},
   "outputs": [
    {
     "name": "stdout",
     "output_type": "stream",
     "text": [
      "['red', 'green', 'blue', 'voilet', 'purple']\n",
      "['orange', 'brown', 'pink']\n",
      "['pink', 'brown', 'orange', 'white', 'black', 'purple', 'voilet', 'blue', 'green', 'red']\n"
     ]
    }
   ],
   "source": [
    "print(colors[:5])\n",
    "print(colors[-3:])\n",
    "print(colors[::-1])"
   ]
  },
  {
   "cell_type": "markdown",
   "metadata": {},
   "source": [
    "Total 11 methods in list\n",
    "-to add\n",
    " -1. append()\n",
    " -2. insert()\n",
    " -3. extend()\n",
    "-to remove\n",
    " -1. remove()\n",
    " -2. pop()\n",
    " -3. clear()\n",
    "-for utility\n",
    " -1. reverse()\n",
    " -2. sort()\n",
    " -3. copy()\n",
    " -4. count()\n",
    " -5. index()"
   ]
  },
  {
   "cell_type": "code",
   "execution_count": 26,
   "metadata": {},
   "outputs": [],
   "source": [
    "tvshows=[] #empty list\n",
    "tvshows.append('Chota bheem')\n",
    "tvshows.append('Ben 10')\n",
    "tvshows.append('Doraemon')\n"
   ]
  },
  {
   "cell_type": "code",
   "execution_count": 27,
   "metadata": {},
   "outputs": [],
   "source": [
    "show=input('enter a show name')\n",
    "tvshows.append(show)\n"
   ]
  },
  {
   "cell_type": "code",
   "execution_count": 28,
   "metadata": {},
   "outputs": [
    {
     "name": "stdout",
     "output_type": "stream",
     "text": [
      "['Chota bheem', 'Ben 10', 'Doraemon', 'Shinchan']\n"
     ]
    }
   ],
   "source": [
    "print(tvshows)"
   ]
  },
  {
   "cell_type": "code",
   "execution_count": 29,
   "metadata": {},
   "outputs": [
    {
     "name": "stdout",
     "output_type": "stream",
     "text": [
      "['Chota bheem', 'The Office', 'Ben 10', 'Doraemon', 'Friends', 'Shinchan']\n"
     ]
    }
   ],
   "source": [
    "tvshows.insert(1, \"The Office\")\n",
    "tvshows.insert(4, 'Friends')\n",
    "print(tvshows)"
   ]
  },
  {
   "cell_type": "code",
   "execution_count": 34,
   "metadata": {},
   "outputs": [],
   "source": [
    "user_shows=input('enter your favorite shows seperated by coomas: ')\n",
    "user_show=user_shows.split(',')"
   ]
  },
  {
   "cell_type": "code",
   "execution_count": 35,
   "metadata": {},
   "outputs": [
    {
     "name": "stdout",
     "output_type": "stream",
     "text": [
      "['Chota bheem', 'The Office', 'Ben 10', 'Doraemon', 'Friends', 'Shinchan', 'Pendulum', ' Addition', ' Substraction', '', 'Nothing Everything']\n"
     ]
    }
   ],
   "source": [
    "tvshows.extend(user_show)\n",
    "print(tvshows)"
   ]
  },
  {
   "cell_type": "code",
   "execution_count": 36,
   "metadata": {},
   "outputs": [
    {
     "name": "stdout",
     "output_type": "stream",
     "text": [
      "['Chota bheem', 'The Office', 'Ben 10', 'Doraemon', 'Friends', 'Shinchan', 'Pendulum', ' Addition', ' Substraction', 'Nothing Everything']\n"
     ]
    }
   ],
   "source": [
    "tvshows.remove('')\n",
    "print(tvshows)"
   ]
  },
  {
   "cell_type": "code",
   "execution_count": 38,
   "metadata": {},
   "outputs": [
    {
     "name": "stdout",
     "output_type": "stream",
     "text": [
      "['Chota bheem', 'The Office', 'Ben 10', 'Friends', 'Shinchan', 'Pendulum', ' Addition', ' Substraction', 'Nothing Everything']\n"
     ]
    }
   ],
   "source": [
    "if 'Doraemon' in tvshows:\n",
    "    tvshows.remove('Doraemon')\n",
    "print(tvshows)"
   ]
  },
  {
   "cell_type": "code",
   "execution_count": 40,
   "metadata": {},
   "outputs": [
    {
     "name": "stdout",
     "output_type": "stream",
     "text": [
      "Friends\n"
     ]
    }
   ],
   "source": [
    "pop_valued=tvshows.pop(2)\n",
    "print(pop_valued)"
   ]
  },
  {
   "cell_type": "code",
   "execution_count": 43,
   "metadata": {},
   "outputs": [
    {
     "data": {
      "text/plain": [
       "' Substraction'"
      ]
     },
     "execution_count": 43,
     "metadata": {},
     "output_type": "execute_result"
    }
   ],
   "source": [
    "tvshows.pop() #pop() removes the last elemnt from list."
   ]
  },
  {
   "cell_type": "code",
   "execution_count": 44,
   "metadata": {},
   "outputs": [
    {
     "name": "stdout",
     "output_type": "stream",
     "text": [
      "['Chota bheem', 'The Office', 'Shinchan', 'Pendulum', ' Addition']\n"
     ]
    }
   ],
   "source": [
    "print(tvshows)"
   ]
  },
  {
   "cell_type": "code",
   "execution_count": 45,
   "metadata": {},
   "outputs": [],
   "source": [
    "tvshows.clear()"
   ]
  },
  {
   "cell_type": "code",
   "execution_count": 46,
   "metadata": {},
   "outputs": [],
   "source": [
    "del mixed"
   ]
  },
  {
   "cell_type": "code",
   "execution_count": 48,
   "metadata": {},
   "outputs": [
    {
     "data": {
      "text/plain": [
       "[]"
      ]
     },
     "execution_count": 48,
     "metadata": {},
     "output_type": "execute_result"
    }
   ],
   "source": [
    "tvshows"
   ]
  },
  {
   "cell_type": "code",
   "execution_count": 50,
   "metadata": {},
   "outputs": [
    {
     "name": "stdout",
     "output_type": "stream",
     "text": [
      "[7, 8, 9, 3, 4, 5, 6, 7, 8, 7, 3, 4, 5, 6, 5, 4, 3, 4, 3, 2]\n"
     ]
    }
   ],
   "source": [
    "x=[2,3,4,3,4,5,6,5,4,3,7,8,7,6,5,4,3,9,8,7]\n",
    "x.reverse()\n",
    "print(x)"
   ]
  },
  {
   "cell_type": "code",
   "execution_count": 51,
   "metadata": {},
   "outputs": [
    {
     "name": "stdout",
     "output_type": "stream",
     "text": [
      "[2, 3, 3, 3, 3, 4, 4, 4, 4, 5, 5, 5, 6, 6, 7, 7, 7, 8, 8, 9]\n"
     ]
    }
   ],
   "source": [
    "x.sort() #ascending order\n",
    "print(x)"
   ]
  },
  {
   "cell_type": "code",
   "execution_count": 52,
   "metadata": {},
   "outputs": [
    {
     "name": "stdout",
     "output_type": "stream",
     "text": [
      "[9, 8, 8, 7, 7, 7, 6, 6, 5, 5, 5, 4, 4, 4, 4, 3, 3, 3, 3, 2]\n"
     ]
    }
   ],
   "source": [
    "x.sort(reverse=True)# reverse=True: decending order\n",
    "print(x)"
   ]
  },
  {
   "cell_type": "code",
   "execution_count": 53,
   "metadata": {},
   "outputs": [
    {
     "data": {
      "text/plain": [
       "2"
      ]
     },
     "execution_count": 53,
     "metadata": {},
     "output_type": "execute_result"
    }
   ],
   "source": [
    "x.count(6) #how many times 6 appears in the list"
   ]
  },
  {
   "cell_type": "code",
   "execution_count": 55,
   "metadata": {},
   "outputs": [
    {
     "data": {
      "text/plain": [
       "11"
      ]
     },
     "execution_count": 55,
     "metadata": {},
     "output_type": "execute_result"
    }
   ],
   "source": [
    "x.index(4) #on which index is 9 value"
   ]
  },
  {
   "cell_type": "code",
   "execution_count": 56,
   "metadata": {},
   "outputs": [
    {
     "name": "stdout",
     "output_type": "stream",
     "text": [
      "11\n",
      "12\n",
      "13\n",
      "14\n"
     ]
    }
   ],
   "source": [
    "start=0\n",
    "for i in range(x.count(4)):\n",
    "    pos=x.index(4,start)\n",
    "    print(pos)\n",
    "    start=pos+1"
   ]
  },
  {
   "cell_type": "code",
   "execution_count": null,
   "metadata": {},
   "outputs": [],
   "source": []
  }
 ],
 "metadata": {
  "kernelspec": {
   "display_name": "base",
   "language": "python",
   "name": "python3"
  },
  "language_info": {
   "codemirror_mode": {
    "name": "ipython",
    "version": 3
   },
   "file_extension": ".py",
   "mimetype": "text/x-python",
   "name": "python",
   "nbconvert_exporter": "python",
   "pygments_lexer": "ipython3",
   "version": "3.10.10"
  },
  "orig_nbformat": 4
 },
 "nbformat": 4,
 "nbformat_minor": 2
}
