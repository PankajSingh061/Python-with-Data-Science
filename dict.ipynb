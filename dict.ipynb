{
 "cells": [
  {
   "cell_type": "code",
   "execution_count": 12,
   "metadata": {},
   "outputs": [],
   "source": [
    "book={\n",
    "    'title':'The Final Empire',\n",
    "    'author':\"Brandon Sanderson\",\n",
    "    'price':1499,\n",
    "    'publisher':\"Tor Books\",\n",
    "    'year':2006,\n",
    "    'pages':541,\n",
    "    'languages':['English','French','Spanish']\n",
    "}"
   ]
  },
  {
   "cell_type": "code",
   "execution_count": 13,
   "metadata": {},
   "outputs": [
    {
     "name": "stdout",
     "output_type": "stream",
     "text": [
      "{'title': 'The Final Empire', 'author': 'Brandon Sanderson', 'price': 1499, 'publisher': 'Tor Books', 'year': 2006, 'pages': 541, 'languages': ['English', 'French', 'Spanish'], 'rating': 4.9, 'type': 'paperback'}\n"
     ]
    }
   ],
   "source": [
    "book['rating']=4.9\n",
    "book['type']='paperback'\n",
    "print(book)\n"
   ]
  },
  {
   "cell_type": "code",
   "execution_count": 14,
   "metadata": {},
   "outputs": [
    {
     "data": {
      "text/plain": [
       "541"
      ]
     },
     "execution_count": 14,
     "metadata": {},
     "output_type": "execute_result"
    }
   ],
   "source": [
    "book['pages']"
   ]
  },
  {
   "cell_type": "code",
   "execution_count": 15,
   "metadata": {},
   "outputs": [
    {
     "data": {
      "text/plain": [
       "541"
      ]
     },
     "execution_count": 15,
     "metadata": {},
     "output_type": "execute_result"
    }
   ],
   "source": [
    "book.pop('pages')\n"
   ]
  },
  {
   "cell_type": "code",
   "execution_count": 16,
   "metadata": {},
   "outputs": [
    {
     "name": "stdout",
     "output_type": "stream",
     "text": [
      "{'title': 'The Final Empire', 'author': 'Brandon Sanderson', 'price': 1499, 'publisher': 'Tor Books', 'year': 2006, 'languages': ['English', 'French', 'Spanish'], 'rating': 4.9, 'type': 'paperback'}\n"
     ]
    }
   ],
   "source": [
    "print(book)"
   ]
  },
  {
   "cell_type": "code",
   "execution_count": 17,
   "metadata": {},
   "outputs": [
    {
     "data": {
      "text/plain": [
       "{'title': 'The Final Empire',\n",
       " 'author': 'Brandon Sanderson',\n",
       " 'price': 1499,\n",
       " 'publisher': 'Tor Books',\n",
       " 'year': 2006,\n",
       " 'languages': ['English', 'French', 'Spanish'],\n",
       " 'rating': 4.9,\n",
       " 'type': 'paperback'}"
      ]
     },
     "execution_count": 17,
     "metadata": {},
     "output_type": "execute_result"
    }
   ],
   "source": [
    "book"
   ]
  },
  {
   "cell_type": "code",
   "execution_count": 18,
   "metadata": {},
   "outputs": [
    {
     "data": {
      "text/plain": [
       "['title',\n",
       " 'author',\n",
       " 'price',\n",
       " 'publisher',\n",
       " 'year',\n",
       " 'languages',\n",
       " 'rating',\n",
       " 'type']"
      ]
     },
     "execution_count": 18,
     "metadata": {},
     "output_type": "execute_result"
    }
   ],
   "source": [
    "list(book.keys())"
   ]
  },
  {
   "cell_type": "code",
   "execution_count": 19,
   "metadata": {},
   "outputs": [
    {
     "data": {
      "text/plain": [
       "['The Final Empire',\n",
       " 'Brandon Sanderson',\n",
       " 1499,\n",
       " 'Tor Books',\n",
       " 2006,\n",
       " ['English', 'French', 'Spanish'],\n",
       " 4.9,\n",
       " 'paperback']"
      ]
     },
     "execution_count": 19,
     "metadata": {},
     "output_type": "execute_result"
    }
   ],
   "source": [
    "list(book.values())"
   ]
  },
  {
   "cell_type": "code",
   "execution_count": 20,
   "metadata": {},
   "outputs": [
    {
     "data": {
      "text/plain": [
       "[('title', 'The Final Empire'),\n",
       " ('author', 'Brandon Sanderson'),\n",
       " ('price', 1499),\n",
       " ('publisher', 'Tor Books'),\n",
       " ('year', 2006),\n",
       " ('languages', ['English', 'French', 'Spanish']),\n",
       " ('rating', 4.9),\n",
       " ('type', 'paperback')]"
      ]
     },
     "execution_count": 20,
     "metadata": {},
     "output_type": "execute_result"
    }
   ],
   "source": [
    "list(book.items())"
   ]
  },
  {
   "cell_type": "code",
   "execution_count": 23,
   "metadata": {},
   "outputs": [
    {
     "data": {
      "text/plain": [
       "'Tor Books'"
      ]
     },
     "execution_count": 23,
     "metadata": {},
     "output_type": "execute_result"
    }
   ],
   "source": [
    "book.get('publisher','not found')"
   ]
  },
  {
   "cell_type": "code",
   "execution_count": 24,
   "metadata": {},
   "outputs": [
    {
     "name": "stdout",
     "output_type": "stream",
     "text": [
      "{'Inception': 8.9, 'wander Woman': 8.9, 'Godzilla vs Kong': 8.0}\n"
     ]
    }
   ],
   "source": [
    "myrating={}\n",
    "for i in range (1,4):\n",
    "    name=input(f'enter the name of the movie{i}:')\n",
    "    rating=float(input(f'enter the rating of movie{i}:'))\n",
    "    myrating[name]=rating\n",
    "print(myrating)"
   ]
  },
  {
   "cell_type": "code",
   "execution_count": 25,
   "metadata": {},
   "outputs": [
    {
     "name": "stdout",
     "output_type": "stream",
     "text": [
      "Inception\n",
      "wander Woman\n",
      "Godzilla vs Kong\n"
     ]
    }
   ],
   "source": [
    "for i in myrating:\n",
    "    print(i)  #only keys"
   ]
  },
  {
   "cell_type": "code",
   "execution_count": 27,
   "metadata": {},
   "outputs": [
    {
     "name": "stdout",
     "output_type": "stream",
     "text": [
      "Inception 8.9\n",
      "wander Woman 8.9\n",
      "Godzilla vs Kong 8.0\n"
     ]
    }
   ],
   "source": [
    "for i in myrating:\n",
    "    print(i,myrating[i])   #only values"
   ]
  },
  {
   "cell_type": "code",
   "execution_count": 28,
   "metadata": {},
   "outputs": [
    {
     "name": "stdout",
     "output_type": "stream",
     "text": [
      "Inception 8.9\n",
      "wander Woman 8.9\n",
      "Godzilla vs Kong 8.0\n"
     ]
    }
   ],
   "source": [
    "for k,v in myrating.items():\n",
    "    print(k,v) #both keys and values"
   ]
  },
  {
   "cell_type": "code",
   "execution_count": null,
   "metadata": {},
   "outputs": [],
   "source": [
    "book.clear() # to clear the data"
   ]
  },
  {
   "cell_type": "code",
   "execution_count": 30,
   "metadata": {},
   "outputs": [],
   "source": [
    "books={\n",
    "    'book1':{\n",
    "        'title':'The Final Empire',\n",
    "        'author':\"Brandon Sanderson\",\n",
    "        'price':1499,\n",
    "    },\n",
    "    'book2':{\n",
    "        'title':'The Well of Ascencion',\n",
    "        'author':\"Brardon Sanderson\",\n",
    "        'price':1699,\n",
    "        'publisher':'Tor Books'\n",
    "    },\n",
    "    'book3':{\n",
    "        'title':'The Hero of Ages',\n",
    "        'author':\"Brandon Sanderson\",\n",
    "        'price':1799,\n",
    "    }\n",
    "}"
   ]
  },
  {
   "cell_type": "code",
   "execution_count": 33,
   "metadata": {},
   "outputs": [
    {
     "name": "stdout",
     "output_type": "stream",
     "text": [
      "book1\n",
      "\ttitle=The Final Empire\n",
      "\tauthor=Brandon Sanderson\n",
      "\tprice=1499\n",
      "book2\n",
      "\ttitle=The Well of Ascencion\n",
      "\tauthor=Brardon Sanderson\n",
      "\tprice=1699\n",
      "\tpublisher=Tor Books\n",
      "book3\n",
      "\ttitle=The Hero of Ages\n",
      "\tauthor=Brandon Sanderson\n",
      "\tprice=1799\n"
     ]
    }
   ],
   "source": [
    "for name,detail in books.items():\n",
    "    print(name)\n",
    "    for k,v in detail.items():\n",
    "        print(f'\\t{k}={v}')"
   ]
  },
  {
   "cell_type": "code",
   "execution_count": 35,
   "metadata": {},
   "outputs": [
    {
     "name": "stdout",
     "output_type": "stream",
     "text": [
      "book2 {'title': 'The Well of Ascencion', 'author': 'Brardon Sanderson', 'price': 1699, 'publisher': 'Tor Books'}\n"
     ]
    }
   ],
   "source": [
    "query='The Well of Ascencion'\n",
    "for name,detail in books.items():\n",
    "    if query in detail['title']:\n",
    "        print(name,detail)"
   ]
  },
  {
   "cell_type": "markdown",
   "metadata": {},
   "source": [
    "# wap to create a dictionary that store number and their squares"
   ]
  },
  {
   "cell_type": "code",
   "execution_count": 7,
   "metadata": {},
   "outputs": [
    {
     "name": "stdout",
     "output_type": "stream",
     "text": [
      "The square value of 1 is 1\n",
      "The square value of 2 is 4\n",
      "The square value of 3 is 9\n",
      "The square value of 4 is 16\n",
      "The square value of 5 is 25\n",
      "The square value of 6 is 36\n",
      "The square value of 7 is 49\n",
      "The square value of 8 is 64\n",
      "The square value of 9 is 81\n",
      "The square value of 10 is 100\n",
      "The square value of 11 is 121\n",
      "The square value of 12 is 144\n",
      "The square value of 13 is 169\n",
      "The square value of 14 is 196\n",
      "The square value of 15 is 225\n",
      "The square value of 16 is 256\n",
      "The square value of 17 is 289\n",
      "The square value of 18 is 324\n",
      "The square value of 19 is 361\n",
      "The square value of 20 is 400\n"
     ]
    }
   ],
   "source": [
    "square={}\n",
    "for i in range(1,21):\n",
    "    square_value=i**2\n",
    "\n",
    "    print(f'The square value of {i} is {square_value}')\n",
    "\n"
   ]
  },
  {
   "cell_type": "code",
   "execution_count": 8,
   "metadata": {},
   "outputs": [
    {
     "name": "stdout",
     "output_type": "stream",
     "text": [
      "{1: 1, 2: 4, 3: 27}\n"
     ]
    }
   ],
   "source": [
    "squares={}\n",
    "for i in range (1,4):\n",
    "    num=int (input(f'enter the number{i}:'))\n",
    "    square_value=num**i\n",
    "    squares[num]=square_value\n",
    "print(squares)"
   ]
  },
  {
   "cell_type": "markdown",
   "metadata": {},
   "source": [
    "# wap to ask to enter item and its prices and then store it in the dictionary, the program should stop whwen the user wants \n",
    "Hint-while loop"
   ]
  },
  {
   "cell_type": "code",
   "execution_count": 11,
   "metadata": {},
   "outputs": [
    {
     "name": "stdout",
     "output_type": "stream",
     "text": [
      "{'sugar': 40, 'Toothpaste': 45}\n"
     ]
    }
   ],
   "source": [
    "items={}\n",
    "while True:\n",
    "    item=input('enter name:')\n",
    "    if not item:\n",
    "        break\n",
    "    price=int(input('enter price:'))\n",
    "    items[item]=price\n",
    "print(items)"
   ]
  },
  {
   "cell_type": "code",
   "execution_count": null,
   "metadata": {},
   "outputs": [],
   "source": [
    "print(a)"
   ]
  }
 ],
 "metadata": {
  "kernelspec": {
   "display_name": "base",
   "language": "python",
   "name": "python3"
  },
  "language_info": {
   "codemirror_mode": {
    "name": "ipython",
    "version": 3
   },
   "file_extension": ".py",
   "mimetype": "text/x-python",
   "name": "python",
   "nbconvert_exporter": "python",
   "pygments_lexer": "ipython3",
   "version": "3.10.10"
  },
  "orig_nbformat": 4
 },
 "nbformat": 4,
 "nbformat_minor": 2
}
