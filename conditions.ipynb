{
 "cells": [
  {
   "cell_type": "code",
   "execution_count": 1,
   "metadata": {},
   "outputs": [],
   "source": [
    "x=input('enter name')\n"
   ]
  },
  {
   "cell_type": "code",
   "execution_count": null,
   "metadata": {},
   "outputs": [
    {
     "name": "stdout",
     "output_type": "stream",
     "text": [
      "welcome mr 5 letter\n"
     ]
    }
   ],
   "source": [
    "if len(x) == 5: #len is used for length\n",
    "    print('welcome mr 5 letter')\n",
    "\n",
    "if len(x) ==0:\n",
    "    print('hellow akash')    \n"
   ]
  },
  {
   "cell_type": "code",
   "execution_count": null,
   "metadata": {},
   "outputs": [
    {
     "name": "stdout",
     "output_type": "stream",
     "text": [
      "even number\n"
     ]
    }
   ],
   "source": [
    "num=int(input(\"enter number\"))\n",
    "if num% 2==0:\n",
    "    print(\"even number\")\n",
    "else:\n",
    "    print(\"odd number\")    \n"
   ]
  },
  {
   "cell_type": "code",
   "execution_count": null,
   "metadata": {},
   "outputs": [
    {
     "name": "stdout",
     "output_type": "stream",
     "text": [
      "c is greater\n"
     ]
    }
   ],
   "source": [
    "a,b,c=10,20,30\n",
    "if a>b and a>c:\n",
    "    print('a is greater')\n",
    "elif b>a and b>c:\n",
    "    print('b is greater')\n",
    "else:\n",
    "    print('c is greater')        "
   ]
  },
  {
   "cell_type": "code",
   "execution_count": null,
   "metadata": {},
   "outputs": [
    {
     "name": "stdout",
     "output_type": "stream",
     "text": [
      "you chose weekend\n"
     ]
    }
   ],
   "source": [
    "day=input('enter a day')\n",
    "match(day):\n",
    "    case 'monday': print('you chose monday')\n",
    "    case 'tuesday': print('you cose tuesday')\n",
    "    case 'wednesday'|'thursday': print('you chose a day')\n",
    "    case 'friday': print('you chose friday')\n",
    "    case 'saturday'|'sunday': print('you chose weekend')\n",
    "    case _: print('you chose a wrong day')"
   ]
  },
  {
   "cell_type": "code",
   "execution_count": null,
   "metadata": {},
   "outputs": [
    {
     "name": "stdout",
     "output_type": "stream",
     "text": [
      "simple interest is 179.86\n"
     ]
    }
   ],
   "source": [
    "p=int(input('enter the number'))\n",
    "r=int(input('enter the number'))\n",
    "t=int(input('enter the number'))\n",
    "\n",
    "c=p*r*t/100\n",
    "print(f'simple interest is {c}')\n"
   ]
  },
  {
   "cell_type": "code",
   "execution_count": null,
   "metadata": {},
   "outputs": [],
   "source": []
  }
 ],
 "metadata": {
  "kernelspec": {
   "display_name": "base",
   "language": "python",
   "name": "python3"
  },
  "language_info": {
   "codemirror_mode": {
    "name": "ipython",
    "version": 3
   },
   "file_extension": ".py",
   "mimetype": "text/x-python",
   "name": "python",
   "nbconvert_exporter": "python",
   "pygments_lexer": "ipython3",
   "version": "3.10.10"
  },
  "orig_nbformat": 4
 },
 "nbformat": 4,
 "nbformat_minor": 2
}
