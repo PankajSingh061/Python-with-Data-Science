{
 "cells": [
  {
   "cell_type": "markdown",
   "metadata": {},
   "source": [
    "#oops\n",
    "-class\n",
    "-object\n",
    "-method\n",
    "  ->constructor\n",
    "  ->instance method\n",
    "-inheritance\n",
    "-multiple inheritance\n",
    "-data class\n",
    "-operator overloading\n"
   ]
  },
  {
   "cell_type": "code",
   "execution_count": 10,
   "metadata": {},
   "outputs": [],
   "source": [
    "#whats appp example \n",
    "class conversation:\n",
    "    name=\"\"\n",
    "    message=\"\"\n",
    "    def show(self):\n",
    "        print(\"Name:\", self.name)\n",
    "        print('Message:',self.message)\n",
    "\n",
    "        "
   ]
  },
  {
   "cell_type": "code",
   "execution_count": 20,
   "metadata": {},
   "outputs": [
    {
     "name": "stdout",
     "output_type": "stream",
     "text": [
      "<__main__.conversation object at 0x000001C1467F2800> <__main__.conversation object at 0x000001C1467F1510> <__main__.conversation object at 0x000001C1467F06A0>\n"
     ]
    }
   ],
   "source": [
    "c1=conversation() #object\n",
    "c2=conversation()#object\n",
    "c3=conversation()#object\n",
    "print(c1,c2,c3)"
   ]
  },
  {
   "cell_type": "code",
   "execution_count": 18,
   "metadata": {},
   "outputs": [],
   "source": [
    "c1.name='RAJ'\n",
    "c1.message=\"Hello\"\n",
    "c2.name='Rahul'\n",
    "c2.message=\"hi\"\n",
    "c3.name=\"Rajesh\"\n",
    "c3.message='Hello Bro'\n"
   ]
  },
  {
   "cell_type": "code",
   "execution_count": 12,
   "metadata": {},
   "outputs": [
    {
     "name": "stdout",
     "output_type": "stream",
     "text": [
      "RAJ Hello\n"
     ]
    }
   ],
   "source": [
    "print(c1.name, c1.message)"
   ]
  },
  {
   "cell_type": "code",
   "execution_count": 19,
   "metadata": {},
   "outputs": [
    {
     "name": "stdout",
     "output_type": "stream",
     "text": [
      "Name: RAJ\n",
      "Message: Hello\n",
      "Name: Rahul\n",
      "Message: hi\n",
      "Name: Rajesh\n",
      "Message: Hello Bro\n"
     ]
    }
   ],
   "source": [
    "c1.show()\n",
    "c2.show()\n",
    "c3.show()"
   ]
  },
  {
   "cell_type": "code",
   "execution_count": 31,
   "metadata": {},
   "outputs": [],
   "source": [
    "class cat:\n",
    "    def __init__(self,breed,color,age,gender,type='pet'):\n",
    "        self.breed=breed\n",
    "        self.color=color\n",
    "        self.age=age\n",
    "        self.gender=gender\n",
    "        self.type=type\n",
    "        self.is_hungry=True\n",
    "\n",
    "    def info(self):\n",
    "        print(f'Breed:{self.breed}')\n",
    "        print(f'Color:{self.color}')\n",
    "        print(f'Age:{self.age}')\n",
    "        print(f'Type:{self.type}')\n",
    "        print(f'Is Hungry:{\"Yes\" if self.is_hungry else \"No\"}')\n",
    "\n"
   ]
  },
  {
   "cell_type": "code",
   "execution_count": 35,
   "metadata": {},
   "outputs": [],
   "source": [
    "tom=cat('Russian Blue','Grey',100,'male')\n",
    "snowbell=cat('Persian','white',3,'female')\n",
    "blacky=cat('Street cat',\"black\",4,'male','stray')"
   ]
  },
  {
   "cell_type": "code",
   "execution_count": 36,
   "metadata": {},
   "outputs": [],
   "source": [
    "blacky.is_hungry=False"
   ]
  },
  {
   "cell_type": "code",
   "execution_count": 41,
   "metadata": {},
   "outputs": [
    {
     "name": "stdout",
     "output_type": "stream",
     "text": [
      "🐈\n",
      "Breed:Russian Blue\n",
      "Color:Grey\n",
      "Age:100\n",
      "Type:pet\n",
      "Is Hungry:Yes\n",
      "🐈\n",
      "Breed:Persian\n",
      "Color:white\n",
      "Age:3\n",
      "Type:pet\n",
      "Is Hungry:Yes\n",
      "🐈\n",
      "Breed:Street cat\n",
      "Color:black\n",
      "Age:4\n",
      "Type:stray\n",
      "Is Hungry:No\n"
     ]
    }
   ],
   "source": [
    "print('🐈')\n",
    "tom.info()\n",
    "\n",
    "print('🐈')\n",
    "snowbell.info()\n",
    "\n",
    "print('🐈')\n",
    "blacky.info()\n"
   ]
  },
  {
   "cell_type": "code",
   "execution_count": 61,
   "metadata": {},
   "outputs": [],
   "source": [
    "class ListX(list):\n",
    "    def filter(self,dtype='int'):\n",
    "        if dtype=='int':\n",
    "            for item in self :\n",
    "                if isinstance(item,int):\n",
    "                    yield item \n",
    "        if dtype=='str':\n",
    "            for item in self :\n",
    "                if isinstance(item,str):\n",
    "                    yield item\n",
    "        if dtype=='list':\n",
    "            for item in self :\n",
    "                if isinstance(item,list):\n",
    "                    yield item"
   ]
  },
  {
   "cell_type": "code",
   "execution_count": 62,
   "metadata": {},
   "outputs": [
    {
     "data": {
      "text/plain": [
       "[1, 2, 3, 4, 5]"
      ]
     },
     "execution_count": 62,
     "metadata": {},
     "output_type": "execute_result"
    }
   ],
   "source": [
    "x=ListX([1,2,3,4,5,\"a\",\"b\",\"c\",\"d\"])\n",
    "list(x.filter())"
   ]
  },
  {
   "cell_type": "code",
   "execution_count": 63,
   "metadata": {},
   "outputs": [
    {
     "data": {
      "text/plain": [
       "['a', 'b', 'c', 'd']"
      ]
     },
     "execution_count": 63,
     "metadata": {},
     "output_type": "execute_result"
    }
   ],
   "source": [
    "\n",
    "list(x.filter('str'))"
   ]
  },
  {
   "cell_type": "code",
   "execution_count": 64,
   "metadata": {},
   "outputs": [
    {
     "data": {
      "text/plain": [
       "[[1, 2, 3], [5, 6, 7]]"
      ]
     },
     "execution_count": 64,
     "metadata": {},
     "output_type": "execute_result"
    }
   ],
   "source": [
    "x=ListX([[1,2,3],[5,6,7],'Hello',1,2,3])\n",
    "list(x.filter('list'))"
   ]
  },
  {
   "cell_type": "code",
   "execution_count": 76,
   "metadata": {},
   "outputs": [],
   "source": [
    "from dataclasses import dataclass\n",
    "from datetime import datetime"
   ]
  },
  {
   "cell_type": "code",
   "execution_count": 77,
   "metadata": {},
   "outputs": [],
   "source": [
    "@dataclass\n",
    "class conversation:\n",
    "    name:str\n",
    "    message:str\n",
    "    profile_pic:str\n",
    "    time:datetime=datetime.now()\n",
    "    status: str ='seen'\n",
    "    is_group:bool=False\n",
    "    is_muted:bool=False"
   ]
  },
  {
   "cell_type": "code",
   "execution_count": 80,
   "metadata": {},
   "outputs": [],
   "source": [
    "c1=conversation('Raj','hello','raj.pnj')\n",
    "c2=conversation('Rahul','HI','RAHUL.JPG')\n",
    "c3=conversation('Raja','hi','RAJA.PNG',status='seen')\n",
    "c4=conversation('Rajesh','Hi','RAJESH.jpg',is_group=True)"
   ]
  },
  {
   "cell_type": "code",
   "execution_count": 81,
   "metadata": {},
   "outputs": [
    {
     "name": "stdout",
     "output_type": "stream",
     "text": [
      "conversation(name='Raj', message='hello', profile_pic='raj.pnj', time=datetime.datetime(2023, 9, 15, 19, 53, 17, 273112), status='seen', is_group=False, is_muted=False)\n"
     ]
    }
   ],
   "source": [
    "print(c1)"
   ]
  },
  {
   "cell_type": "code",
   "execution_count": 82,
   "metadata": {},
   "outputs": [
    {
     "name": "stdout",
     "output_type": "stream",
     "text": [
      "conversation(name='Rahul', message='HI', profile_pic='RAHUL.JPG', time=datetime.datetime(2023, 9, 15, 19, 53, 17, 273112), status='seen', is_group=False, is_muted=False)\n"
     ]
    }
   ],
   "source": [
    "print(c2)"
   ]
  },
  {
   "cell_type": "code",
   "execution_count": 83,
   "metadata": {},
   "outputs": [
    {
     "name": "stdout",
     "output_type": "stream",
     "text": [
      "conversation(name='Raja', message='hi', profile_pic='RAJA.PNG', time=datetime.datetime(2023, 9, 15, 19, 53, 17, 273112), status='seen', is_group=False, is_muted=False) conversation(name='Rajesh', message='Hi', profile_pic='RAJESH.jpg', time=datetime.datetime(2023, 9, 15, 19, 53, 17, 273112), status='seen', is_group=True, is_muted=False)\n"
     ]
    }
   ],
   "source": [
    "print(c3,c4)"
   ]
  },
  {
   "cell_type": "code",
   "execution_count": 90,
   "metadata": {},
   "outputs": [],
   "source": [
    "class Person:\n",
    "    def __init__(self,name,age):\n",
    "        self.name = name\n",
    "        self.age = age \n",
    "    def __str__(self):\n",
    "        return self.name"
   ]
  },
  {
   "cell_type": "code",
   "execution_count": 91,
   "metadata": {},
   "outputs": [],
   "source": [
    "P1=Person('Raj',20)\n",
    "P2=Person('Raja',22)\n",
    "P3=Person('Rajesh',24)"
   ]
  },
  {
   "cell_type": "code",
   "execution_count": 92,
   "metadata": {},
   "outputs": [
    {
     "name": "stdout",
     "output_type": "stream",
     "text": [
      "Raj Raja Rajesh\n"
     ]
    }
   ],
   "source": [
    "print(P1,P2,P3)"
   ]
  },
  {
   "cell_type": "code",
   "execution_count": null,
   "metadata": {},
   "outputs": [],
   "source": []
  }
 ],
 "metadata": {
  "kernelspec": {
   "display_name": "base",
   "language": "python",
   "name": "python3"
  },
  "language_info": {
   "codemirror_mode": {
    "name": "ipython",
    "version": 3
   },
   "file_extension": ".py",
   "mimetype": "text/x-python",
   "name": "python",
   "nbconvert_exporter": "python",
   "pygments_lexer": "ipython3",
   "version": "3.10.10"
  },
  "orig_nbformat": 4
 },
 "nbformat": 4,
 "nbformat_minor": 2
}
